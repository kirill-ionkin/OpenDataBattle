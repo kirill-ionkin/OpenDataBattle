{
 "cells": [
  {
   "cell_type": "markdown",
   "id": "b456407c",
   "metadata": {},
   "source": [
    "## Задача. Построить модель прогнозирования факта сдачи теста"
   ]
  },
  {
   "cell_type": "markdown",
   "id": "d7fe6b65",
   "metadata": {},
   "source": [
    "<img src=\"image/image1.png\" alt=\"Drawing\" style=\"width: 380px;\" align=\"left\"/> <br />"
   ]
  },
  {
   "cell_type": "markdown",
   "id": "f3613980",
   "metadata": {},
   "source": [
    "### Загружаем библиотеки"
   ]
  },
  {
   "cell_type": "code",
   "execution_count": null,
   "id": "cd7bf8a2",
   "metadata": {},
   "outputs": [],
   "source": [
    "# почему собственно считаем именно конкретные значения балло ....\n",
    "# нас интересует сам факт сдачи, а не конретные балы\n",
    "\n",
    "# используем кросс-энтропию\n",
    "# используем лог-регрессию, если нам именно нужна регрессия"
   ]
  },
  {
   "cell_type": "code",
   "execution_count": 1,
   "id": "eca38dd0",
   "metadata": {},
   "outputs": [],
   "source": [
    "import itertools\n",
    "import numpy as np\n",
    "import pandas as pd\n",
    "import scipy\n",
    "\n",
    "from sklearn.base import BaseEstimator\n",
    "from sklearn.preprocessing import LabelEncoder\n",
    "from sklearn.metrics import mean_absolute_error\n",
    "from sklearn.linear_model import LinearRegression\n",
    "from sklearn.model_selection import train_test_split\n",
    "\n",
    "import matplotlib.pyplot as plt\n",
    "%matplotlib inline "
   ]
  },
  {
   "cell_type": "markdown",
   "id": "98220971",
   "metadata": {},
   "source": [
    "### Загружаем данные"
   ]
  },
  {
   "cell_type": "code",
   "execution_count": 2,
   "id": "80ea89c9",
   "metadata": {
    "scrolled": true
   },
   "outputs": [
    {
     "name": "stdout",
     "output_type": "stream",
     "text": [
      "(2133, 12)\n"
     ]
    },
    {
     "data": {
      "text/html": [
       "<div>\n",
       "<style scoped>\n",
       "    .dataframe tbody tr th:only-of-type {\n",
       "        vertical-align: middle;\n",
       "    }\n",
       "\n",
       "    .dataframe tbody tr th {\n",
       "        vertical-align: top;\n",
       "    }\n",
       "\n",
       "    .dataframe thead th {\n",
       "        text-align: right;\n",
       "    }\n",
       "</style>\n",
       "<table border=\"1\" class=\"dataframe\">\n",
       "  <thead>\n",
       "    <tr style=\"text-align: right;\">\n",
       "      <th></th>\n",
       "      <th>Unnamed: 0</th>\n",
       "      <th>Unnamed: 0.1</th>\n",
       "      <th>school</th>\n",
       "      <th>school_setting</th>\n",
       "      <th>school_type</th>\n",
       "      <th>classroom</th>\n",
       "      <th>teaching_method</th>\n",
       "      <th>n_student</th>\n",
       "      <th>gender</th>\n",
       "      <th>lunch</th>\n",
       "      <th>posttest</th>\n",
       "      <th>target</th>\n",
       "    </tr>\n",
       "  </thead>\n",
       "  <tbody>\n",
       "    <tr>\n",
       "      <th>0</th>\n",
       "      <td>0</td>\n",
       "      <td>0</td>\n",
       "      <td>ANKYI</td>\n",
       "      <td>Urban</td>\n",
       "      <td>Non-public</td>\n",
       "      <td>6OL</td>\n",
       "      <td>Standard</td>\n",
       "      <td>20.0</td>\n",
       "      <td>Male</td>\n",
       "      <td>Does not qualify</td>\n",
       "      <td>72.0</td>\n",
       "      <td>1.0</td>\n",
       "    </tr>\n",
       "    <tr>\n",
       "      <th>1</th>\n",
       "      <td>1</td>\n",
       "      <td>1</td>\n",
       "      <td>ANKYI</td>\n",
       "      <td>Urban</td>\n",
       "      <td>Non-public</td>\n",
       "      <td>6OL</td>\n",
       "      <td>Standard</td>\n",
       "      <td>20.0</td>\n",
       "      <td>Male</td>\n",
       "      <td>Does not qualify</td>\n",
       "      <td>79.0</td>\n",
       "      <td>0.0</td>\n",
       "    </tr>\n",
       "    <tr>\n",
       "      <th>2</th>\n",
       "      <td>2</td>\n",
       "      <td>2</td>\n",
       "      <td>ANKYI</td>\n",
       "      <td>Urban</td>\n",
       "      <td>Non-public</td>\n",
       "      <td>6OL</td>\n",
       "      <td>Standard</td>\n",
       "      <td>NaN</td>\n",
       "      <td>Male</td>\n",
       "      <td>Does not qualify</td>\n",
       "      <td>76.0</td>\n",
       "      <td>1.0</td>\n",
       "    </tr>\n",
       "    <tr>\n",
       "      <th>3</th>\n",
       "      <td>3</td>\n",
       "      <td>3</td>\n",
       "      <td>ANKYI</td>\n",
       "      <td>Urban</td>\n",
       "      <td>Non-public</td>\n",
       "      <td>6OL</td>\n",
       "      <td>Standard</td>\n",
       "      <td>20.0</td>\n",
       "      <td>Male</td>\n",
       "      <td>Does not qualify</td>\n",
       "      <td>77.0</td>\n",
       "      <td>1.0</td>\n",
       "    </tr>\n",
       "    <tr>\n",
       "      <th>4</th>\n",
       "      <td>4</td>\n",
       "      <td>4</td>\n",
       "      <td>ANKYI</td>\n",
       "      <td>Urban</td>\n",
       "      <td>Non-public</td>\n",
       "      <td>6OL</td>\n",
       "      <td>Standard</td>\n",
       "      <td>20.0</td>\n",
       "      <td>Male</td>\n",
       "      <td>Does not qualify</td>\n",
       "      <td>76.0</td>\n",
       "      <td>0.0</td>\n",
       "    </tr>\n",
       "  </tbody>\n",
       "</table>\n",
       "</div>"
      ],
      "text/plain": [
       "   Unnamed: 0  Unnamed: 0.1 school school_setting school_type classroom  \\\n",
       "0           0             0  ANKYI          Urban  Non-public       6OL   \n",
       "1           1             1  ANKYI          Urban  Non-public       6OL   \n",
       "2           2             2  ANKYI          Urban  Non-public       6OL   \n",
       "3           3             3  ANKYI          Urban  Non-public       6OL   \n",
       "4           4             4  ANKYI          Urban  Non-public       6OL   \n",
       "\n",
       "  teaching_method  n_student gender             lunch  posttest  target  \n",
       "0        Standard       20.0   Male  Does not qualify      72.0     1.0  \n",
       "1        Standard       20.0   Male  Does not qualify      79.0     0.0  \n",
       "2        Standard        NaN   Male  Does not qualify      76.0     1.0  \n",
       "3        Standard       20.0   Male  Does not qualify      77.0     1.0  \n",
       "4        Standard       20.0   Male  Does not qualify      76.0     0.0  "
      ]
     },
     "execution_count": 2,
     "metadata": {},
     "output_type": "execute_result"
    }
   ],
   "source": [
    "df = pd.read_csv('dataset.csv', sep=';')\n",
    "print(df.shape)\n",
    "df.head()"
   ]
  },
  {
   "cell_type": "code",
   "execution_count": 13,
   "id": "f8637afe",
   "metadata": {},
   "outputs": [
    {
     "data": {
      "text/plain": [
       "2133"
      ]
     },
     "execution_count": 13,
     "metadata": {},
     "output_type": "execute_result"
    }
   ],
   "source": [
    "df[\"Unnamed: 0.1\"].nunique()"
   ]
  },
  {
   "cell_type": "code",
   "execution_count": 11,
   "id": "ef502dcb",
   "metadata": {},
   "outputs": [
    {
     "data": {
      "text/plain": [
       "2133"
      ]
     },
     "execution_count": 11,
     "metadata": {},
     "output_type": "execute_result"
    }
   ],
   "source": [
    "len(df)"
   ]
  },
  {
   "cell_type": "code",
   "execution_count": 9,
   "id": "f5f1d4e3",
   "metadata": {},
   "outputs": [
    {
     "data": {
      "text/plain": [
       "2133"
      ]
     },
     "execution_count": 9,
     "metadata": {},
     "output_type": "execute_result"
    }
   ],
   "source": [
    "df[\"Unnamed: 0\"].nunique()"
   ]
  },
  {
   "cell_type": "code",
   "execution_count": 3,
   "id": "5d94d93f",
   "metadata": {},
   "outputs": [
    {
     "name": "stdout",
     "output_type": "stream",
     "text": [
      "<class 'pandas.core.frame.DataFrame'>\n",
      "RangeIndex: 2133 entries, 0 to 2132\n",
      "Data columns (total 12 columns):\n",
      " #   Column           Non-Null Count  Dtype  \n",
      "---  ------           --------------  -----  \n",
      " 0   Unnamed: 0       2133 non-null   int64  \n",
      " 1   Unnamed: 0.1     2133 non-null   int64  \n",
      " 2   school           2133 non-null   object \n",
      " 3   school_setting   2133 non-null   object \n",
      " 4   school_type      2133 non-null   object \n",
      " 5   classroom        2133 non-null   object \n",
      " 6   teaching_method  2133 non-null   object \n",
      " 7   n_student        1991 non-null   float64\n",
      " 8   gender           2133 non-null   object \n",
      " 9   lunch            2133 non-null   object \n",
      " 10  posttest         2133 non-null   float64\n",
      " 11  target           2123 non-null   float64\n",
      "dtypes: float64(3), int64(2), object(7)\n",
      "memory usage: 200.1+ KB\n"
     ]
    }
   ],
   "source": [
    "# \n",
    "df.info()"
   ]
  },
  {
   "cell_type": "code",
   "execution_count": 6,
   "id": "bb3c2ccd",
   "metadata": {},
   "outputs": [],
   "source": [
    "import missingno as msno"
   ]
  },
  {
   "cell_type": "code",
   "execution_count": 7,
   "id": "5b31b6de",
   "metadata": {},
   "outputs": [
    {
     "data": {
      "text/plain": [
       "<AxesSubplot:>"
      ]
     },
     "execution_count": 7,
     "metadata": {},
     "output_type": "execute_result"
    },
    {
     "data": {
      "image/png": "[encoded data removed]",
      "text/plain": [
       "<Figure size 1800x720 with 2 Axes>"
      ]
     },
     "metadata": {
      "needs_background": "light"
     },
     "output_type": "display_data"
    }
   ],
   "source": [
    "# небольщие пропуски в данных\n",
    "msno.matrix(df)"
   ]
  },
  {
   "cell_type": "markdown",
   "id": "55825dbb",
   "metadata": {},
   "source": [
    "### Описание полей\n",
    "* **school** - Код школы, в которой учится ученик  \n",
    "* **school_setting** - Тип района в котором находится школа  \n",
    "* **school_type** - Частная или нет школа  \n",
    "* **classroom** - внутренний код класса, в котором проиходят занятия  \n",
    "* **teaching_method** - является ли обучение экспериментальным  \n",
    "* **n_student** - возраст ученика  \n",
    "* **gender** - пол ученика  \n",
    "* **lunch** - Является ли ученик слабозащищенной категорией населения  \n",
    "* **posttest** - балл по тесту\n",
    "* **target** - сдал или нет. 1- сдал."
   ]
  },
  {
   "cell_type": "markdown",
   "id": "6c5eb647",
   "metadata": {},
   "source": [
    "### Разобьем выборку на train / test"
   ]
  },
  {
   "cell_type": "code",
   "execution_count": 18,
   "id": "015f179a",
   "metadata": {},
   "outputs": [],
   "source": [
    "import seaborn as sns"
   ]
  },
  {
   "cell_type": "code",
   "execution_count": 39,
   "id": "3e80649d",
   "metadata": {},
   "outputs": [
    {
     "data": {
      "image/png": "[encoded data removed]",
      "text/plain": [
       "<Figure size 432x288 with 1 Axes>"
      ]
     },
     "metadata": {
      "needs_background": "light"
     },
     "output_type": "display_data"
    }
   ],
   "source": [
    "sns.histplot(data=df, x=\"posttest\", hue=\"target\", palette=[\"yellow\", \"blue\"]);\n",
    "# хм ... как можно заметить соотношение сдавших и не сдавших не сильно меняется в зависимости от оценки"
   ]
  },
  {
   "cell_type": "code",
   "execution_count": 23,
   "id": "da6376af",
   "metadata": {},
   "outputs": [
    {
     "data": {
      "text/plain": [
       "1.0    1067\n",
       "0.0    1056\n",
       "Name: target, dtype: int64"
      ]
     },
     "execution_count": 23,
     "metadata": {},
     "output_type": "execute_result"
    }
   ],
   "source": [
    "df[\"target\"].value_counts() # дисбаланса данных нет, но я бы перестраховался и произвёл стратификацию"
   ]
  },
  {
   "cell_type": "code",
   "execution_count": 41,
   "id": "46d2df41",
   "metadata": {},
   "outputs": [
    {
     "data": {
      "text/plain": [
       "((1599, 10), (534, 10))"
      ]
     },
     "execution_count": 41,
     "metadata": {},
     "output_type": "execute_result"
    }
   ],
   "source": [
    "X = df.drop(['posttest'], axis=1)\n",
    "X = X.drop(['target'], axis=1)\n",
    "y = df['posttest']\n",
    "\n",
    "X_train, X_test, y_train, y_test = train_test_split(X, y, random_state=1234)\n",
    "X_train.shape, X_test.shape"
   ]
  },
  {
   "cell_type": "code",
   "execution_count": 42,
   "id": "d756816c",
   "metadata": {},
   "outputs": [],
   "source": [
    "# где стратификация по таргету?...."
   ]
  },
  {
   "cell_type": "code",
   "execution_count": 45,
   "id": "73619cd5",
   "metadata": {},
   "outputs": [
    {
     "data": {
      "text/plain": [
       "<AxesSubplot:xlabel='posttest', ylabel='Count'>"
      ]
     },
     "execution_count": 45,
     "metadata": {},
     "output_type": "execute_result"
    },
    {
     "data": {
      "image/png": "[encoded data removed]",
      "text/plain": [
       "<Figure size 432x288 with 1 Axes>"
      ]
     },
     "metadata": {
      "needs_background": "light"
     },
     "output_type": "display_data"
    }
   ],
   "source": [
    "sns.histplot(y_train)"
   ]
  },
  {
   "cell_type": "code",
   "execution_count": 46,
   "id": "cbd642dd",
   "metadata": {},
   "outputs": [
    {
     "data": {
      "text/plain": [
       "<AxesSubplot:xlabel='posttest', ylabel='Count'>"
      ]
     },
     "execution_count": 46,
     "metadata": {},
     "output_type": "execute_result"
    },
    {
     "data": {
      "image/png": "[encoded data removed]",
      "text/plain": [
       "<Figure size 432x288 with 1 Axes>"
      ]
     },
     "metadata": {
      "needs_background": "light"
     },
     "output_type": "display_data"
    }
   ],
   "source": [
    "sns.histplot(y_test)\n",
    "# немного розняться распределения ... я бы всё таки стратификацю сделал бы"
   ]
  },
  {
   "cell_type": "markdown",
   "id": "0cdc19a7",
   "metadata": {},
   "source": [
    "### Заменим пропуски в данных"
   ]
  },
  {
   "cell_type": "code",
   "execution_count": null,
   "id": "3a546405",
   "metadata": {},
   "outputs": [],
   "source": []
  },
  {
   "cell_type": "code",
   "execution_count": 50,
   "id": "b66dfb9b",
   "metadata": {},
   "outputs": [
    {
     "data": {
      "text/plain": [
       "<AxesSubplot:xlabel='n_student', ylabel='Count'>"
      ]
     },
     "execution_count": 50,
     "metadata": {},
     "output_type": "execute_result"
    },
    {
     "data": {
      "image/png": "[encoded data removed]",
      "text/plain": [
       "<Figure size 432x288 with 1 Axes>"
      ]
     },
     "metadata": {
      "needs_background": "light"
     },
     "output_type": "display_data"
    }
   ],
   "source": [
    "sns.histplot(X_train[\"n_student\"]) # возраст учеников"
   ]
  },
  {
   "cell_type": "code",
   "execution_count": 53,
   "id": "68f57c47",
   "metadata": {},
   "outputs": [
    {
     "data": {
      "text/plain": [
       "<AxesSubplot:xlabel='n_student', ylabel='Count'>"
      ]
     },
     "execution_count": 53,
     "metadata": {},
     "output_type": "execute_result"
    },
    {
     "data": {
      "image/png": "[encoded data removed]",
      "text/plain": [
       "<Figure size 432x288 with 1 Axes>"
      ]
     },
     "metadata": {
      "needs_background": "light"
     },
     "output_type": "display_data"
    }
   ],
   "source": [
    "sns.histplot(X_test[\"n_student\"])"
   ]
  },
  {
   "cell_type": "code",
   "execution_count": 54,
   "id": "a87c1c32",
   "metadata": {},
   "outputs": [],
   "source": [
    "X_train = X_train.fillna(X_train.mean())\n",
    "X_test = X_test.fillna(X_test.mean())"
   ]
  },
  {
   "cell_type": "code",
   "execution_count": 55,
   "id": "e17a9a6e",
   "metadata": {},
   "outputs": [
    {
     "data": {
      "text/plain": [
       "<AxesSubplot:xlabel='n_student', ylabel='Count'>"
      ]
     },
     "execution_count": 55,
     "metadata": {},
     "output_type": "execute_result"
    },
    {
     "data": {
      "image/png": "[encoded data removed]",
      "text/plain": [
       "<Figure size 432x288 with 1 Axes>"
      ]
     },
     "metadata": {
      "needs_background": "light"
     },
     "output_type": "display_data"
    }
   ],
   "source": [
    "# посмотрим на то, как сильно поменялось распределение после замены пропусков средним значением\n",
    "\n",
    "sns.histplot(X_train[\"n_student\"])"
   ]
  },
  {
   "cell_type": "code",
   "execution_count": 56,
   "id": "6d4a77f8",
   "metadata": {},
   "outputs": [
    {
     "data": {
      "text/plain": [
       "<AxesSubplot:xlabel='n_student', ylabel='Count'>"
      ]
     },
     "execution_count": 56,
     "metadata": {},
     "output_type": "execute_result"
    },
    {
     "data": {
      "image/png": "[encoded data removed]",
      "text/plain": [
       "<Figure size 432x288 with 1 Axes>"
      ]
     },
     "metadata": {
      "needs_background": "light"
     },
     "output_type": "display_data"
    }
   ],
   "source": [
    "sns.histplot(X_test[\"n_student\"])"
   ]
  },
  {
   "cell_type": "code",
   "execution_count": null,
   "id": "efe4e2dc",
   "metadata": {},
   "outputs": [],
   "source": [
    "# дабы не портить инзачальное распределение ... ы бы засемплил данные из полученных распределений"
   ]
  },
  {
   "cell_type": "markdown",
   "id": "a64e8fd3",
   "metadata": {},
   "source": [
    "-----------"
   ]
  },
  {
   "cell_type": "markdown",
   "id": "669f59e4",
   "metadata": {},
   "source": [
    "В качестве целевой переменной  будем рассматривать балл по тесту.  <br />\n",
    "Построим линейную регрессию."
   ]
  },
  {
   "cell_type": "markdown",
   "id": "16be11b6",
   "metadata": {},
   "source": [
    "### Заинжинирим новую переменную\n",
    "пол*возраст\n",
    "для каждой комбинации посчитаем weight of evidence и будем его использовать в модели"
   ]
  },
  {
   "cell_type": "code",
   "execution_count": 57,
   "id": "455cde1e",
   "metadata": {},
   "outputs": [
    {
     "data": {
      "text/plain": [
       "array(['Male', 'Female'], dtype=object)"
      ]
     },
     "execution_count": 57,
     "metadata": {},
     "output_type": "execute_result"
    }
   ],
   "source": [
    "df.gender.unique()"
   ]
  },
  {
   "cell_type": "code",
   "execution_count": 58,
   "id": "1c02506a",
   "metadata": {},
   "outputs": [
    {
     "data": {
      "text/plain": [
       "array([20., nan, 21., 18., 15., 16., 19., 17., 28., 27., 24., 14., 22.,\n",
       "       23., 31., 25., 26., 29., 30.])"
      ]
     },
     "execution_count": 58,
     "metadata": {},
     "output_type": "execute_result"
    }
   ],
   "source": [
    "df.n_student.unique()"
   ]
  },
  {
   "cell_type": "code",
   "execution_count": 59,
   "id": "e108802d",
   "metadata": {},
   "outputs": [],
   "source": [
    "for i in df.gender.unique():\n",
    "    for j in df.n_student.unique():\n",
    "        l=df.loc[(df.gender==i) & (df.n_student>=j)]\n",
    "        woe=l.target.sum()/(l.target.count()-df.target.mean()-1)\n",
    "        df.loc[(df.gender==i) & (df.n_student>=j), 'woe_agegender']=woe"
   ]
  },
  {
   "cell_type": "code",
   "execution_count": 61,
   "id": "d5499d66",
   "metadata": {},
   "outputs": [
    {
     "data": {
      "text/plain": [
       "<AxesSubplot:xlabel='woe_agegender', ylabel='Count'>"
      ]
     },
     "execution_count": 61,
     "metadata": {},
     "output_type": "execute_result"
    },
    {
     "data": {
      "image/png": "[encoded data removed]",
      "text/plain": [
       "<Figure size 432x288 with 1 Axes>"
      ]
     },
     "metadata": {
      "needs_background": "light"
     },
     "output_type": "display_data"
    }
   ],
   "source": [
    "sns.histplot(data=df, x=\"woe_agegender\") # непонятно, а для чего собственно нужен этот признак .... почему такой дисбаланс явный.."
   ]
  },
  {
   "cell_type": "code",
   "execution_count": 62,
   "id": "f68b742e",
   "metadata": {},
   "outputs": [
    {
     "data": {
      "text/html": [
       "<div>\n",
       "<style scoped>\n",
       "    .dataframe tbody tr th:only-of-type {\n",
       "        vertical-align: middle;\n",
       "    }\n",
       "\n",
       "    .dataframe tbody tr th {\n",
       "        vertical-align: top;\n",
       "    }\n",
       "\n",
       "    .dataframe thead th {\n",
       "        text-align: right;\n",
       "    }\n",
       "</style>\n",
       "<table border=\"1\" class=\"dataframe\">\n",
       "  <thead>\n",
       "    <tr style=\"text-align: right;\">\n",
       "      <th></th>\n",
       "      <th>Unnamed: 0</th>\n",
       "      <th>Unnamed: 0.1</th>\n",
       "      <th>school</th>\n",
       "      <th>school_setting</th>\n",
       "      <th>school_type</th>\n",
       "      <th>classroom</th>\n",
       "      <th>teaching_method</th>\n",
       "      <th>n_student</th>\n",
       "      <th>gender</th>\n",
       "      <th>lunch</th>\n",
       "    </tr>\n",
       "  </thead>\n",
       "  <tbody>\n",
       "    <tr>\n",
       "      <th>0</th>\n",
       "      <td>0</td>\n",
       "      <td>0</td>\n",
       "      <td>ANKYI</td>\n",
       "      <td>Urban</td>\n",
       "      <td>Non-public</td>\n",
       "      <td>6OL</td>\n",
       "      <td>Standard</td>\n",
       "      <td>20.0</td>\n",
       "      <td>Male</td>\n",
       "      <td>Does not qualify</td>\n",
       "    </tr>\n",
       "    <tr>\n",
       "      <th>1</th>\n",
       "      <td>1</td>\n",
       "      <td>1</td>\n",
       "      <td>ANKYI</td>\n",
       "      <td>Urban</td>\n",
       "      <td>Non-public</td>\n",
       "      <td>6OL</td>\n",
       "      <td>Standard</td>\n",
       "      <td>20.0</td>\n",
       "      <td>Male</td>\n",
       "      <td>Does not qualify</td>\n",
       "    </tr>\n",
       "    <tr>\n",
       "      <th>2</th>\n",
       "      <td>2</td>\n",
       "      <td>2</td>\n",
       "      <td>ANKYI</td>\n",
       "      <td>Urban</td>\n",
       "      <td>Non-public</td>\n",
       "      <td>6OL</td>\n",
       "      <td>Standard</td>\n",
       "      <td>NaN</td>\n",
       "      <td>Male</td>\n",
       "      <td>Does not qualify</td>\n",
       "    </tr>\n",
       "    <tr>\n",
       "      <th>3</th>\n",
       "      <td>3</td>\n",
       "      <td>3</td>\n",
       "      <td>ANKYI</td>\n",
       "      <td>Urban</td>\n",
       "      <td>Non-public</td>\n",
       "      <td>6OL</td>\n",
       "      <td>Standard</td>\n",
       "      <td>20.0</td>\n",
       "      <td>Male</td>\n",
       "      <td>Does not qualify</td>\n",
       "    </tr>\n",
       "    <tr>\n",
       "      <th>4</th>\n",
       "      <td>4</td>\n",
       "      <td>4</td>\n",
       "      <td>ANKYI</td>\n",
       "      <td>Urban</td>\n",
       "      <td>Non-public</td>\n",
       "      <td>6OL</td>\n",
       "      <td>Standard</td>\n",
       "      <td>20.0</td>\n",
       "      <td>Male</td>\n",
       "      <td>Does not qualify</td>\n",
       "    </tr>\n",
       "    <tr>\n",
       "      <th>...</th>\n",
       "      <td>...</td>\n",
       "      <td>...</td>\n",
       "      <td>...</td>\n",
       "      <td>...</td>\n",
       "      <td>...</td>\n",
       "      <td>...</td>\n",
       "      <td>...</td>\n",
       "      <td>...</td>\n",
       "      <td>...</td>\n",
       "      <td>...</td>\n",
       "    </tr>\n",
       "    <tr>\n",
       "      <th>2128</th>\n",
       "      <td>2128</td>\n",
       "      <td>2128</td>\n",
       "      <td>ZOWMK</td>\n",
       "      <td>Urban</td>\n",
       "      <td>Public</td>\n",
       "      <td>ZBH</td>\n",
       "      <td>Standard</td>\n",
       "      <td>30.0</td>\n",
       "      <td>Female</td>\n",
       "      <td>Does not qualify</td>\n",
       "    </tr>\n",
       "    <tr>\n",
       "      <th>2129</th>\n",
       "      <td>2129</td>\n",
       "      <td>2129</td>\n",
       "      <td>ZOWMK</td>\n",
       "      <td>Urban</td>\n",
       "      <td>Public</td>\n",
       "      <td>ZBH</td>\n",
       "      <td>Standard</td>\n",
       "      <td>30.0</td>\n",
       "      <td>Female</td>\n",
       "      <td>Qualifies for reduced/free lunch</td>\n",
       "    </tr>\n",
       "    <tr>\n",
       "      <th>2130</th>\n",
       "      <td>2130</td>\n",
       "      <td>2130</td>\n",
       "      <td>ZOWMK</td>\n",
       "      <td>Urban</td>\n",
       "      <td>Public</td>\n",
       "      <td>ZBH</td>\n",
       "      <td>Standard</td>\n",
       "      <td>30.0</td>\n",
       "      <td>Female</td>\n",
       "      <td>Qualifies for reduced/free lunch</td>\n",
       "    </tr>\n",
       "    <tr>\n",
       "      <th>2131</th>\n",
       "      <td>2131</td>\n",
       "      <td>2131</td>\n",
       "      <td>ZOWMK</td>\n",
       "      <td>Urban</td>\n",
       "      <td>Public</td>\n",
       "      <td>ZBH</td>\n",
       "      <td>Standard</td>\n",
       "      <td>30.0</td>\n",
       "      <td>Male</td>\n",
       "      <td>Qualifies for reduced/free lunch</td>\n",
       "    </tr>\n",
       "    <tr>\n",
       "      <th>2132</th>\n",
       "      <td>2132</td>\n",
       "      <td>2132</td>\n",
       "      <td>ZOWMK</td>\n",
       "      <td>Urban</td>\n",
       "      <td>Public</td>\n",
       "      <td>ZBH</td>\n",
       "      <td>Standard</td>\n",
       "      <td>30.0</td>\n",
       "      <td>Male</td>\n",
       "      <td>Qualifies for reduced/free lunch</td>\n",
       "    </tr>\n",
       "  </tbody>\n",
       "</table>\n",
       "<p>2133 rows × 10 columns</p>\n",
       "</div>"
      ],
      "text/plain": [
       "      Unnamed: 0  Unnamed: 0.1 school school_setting school_type classroom  \\\n",
       "0              0             0  ANKYI          Urban  Non-public       6OL   \n",
       "1              1             1  ANKYI          Urban  Non-public       6OL   \n",
       "2              2             2  ANKYI          Urban  Non-public       6OL   \n",
       "3              3             3  ANKYI          Urban  Non-public       6OL   \n",
       "4              4             4  ANKYI          Urban  Non-public       6OL   \n",
       "...          ...           ...    ...            ...         ...       ...   \n",
       "2128        2128          2128  ZOWMK          Urban      Public       ZBH   \n",
       "2129        2129          2129  ZOWMK          Urban      Public       ZBH   \n",
       "2130        2130          2130  ZOWMK          Urban      Public       ZBH   \n",
       "2131        2131          2131  ZOWMK          Urban      Public       ZBH   \n",
       "2132        2132          2132  ZOWMK          Urban      Public       ZBH   \n",
       "\n",
       "     teaching_method  n_student  gender                             lunch  \n",
       "0           Standard       20.0    Male                  Does not qualify  \n",
       "1           Standard       20.0    Male                  Does not qualify  \n",
       "2           Standard        NaN    Male                  Does not qualify  \n",
       "3           Standard       20.0    Male                  Does not qualify  \n",
       "4           Standard       20.0    Male                  Does not qualify  \n",
       "...              ...        ...     ...                               ...  \n",
       "2128        Standard       30.0  Female                  Does not qualify  \n",
       "2129        Standard       30.0  Female  Qualifies for reduced/free lunch  \n",
       "2130        Standard       30.0  Female  Qualifies for reduced/free lunch  \n",
       "2131        Standard       30.0    Male  Qualifies for reduced/free lunch  \n",
       "2132        Standard       30.0    Male  Qualifies for reduced/free lunch  \n",
       "\n",
       "[2133 rows x 10 columns]"
      ]
     },
     "execution_count": 62,
     "metadata": {},
     "output_type": "execute_result"
    }
   ],
   "source": [
    "X"
   ]
  },
  {
   "cell_type": "markdown",
   "id": "8c19e8d1",
   "metadata": {},
   "source": [
    "### Дальше накинем one-hot encoding"
   ]
  },
  {
   "cell_type": "code",
   "execution_count": null,
   "id": "d477d1eb",
   "metadata": {},
   "outputs": [],
   "source": [
    "# Почему LabelEncder ... для его использования, нужно убедиться, что\n",
    "# данные действиттельно порядковые и мало того, нужно отдавать себя отчёт,\n",
    "# как моделировать этот порядок"
   ]
  },
  {
   "cell_type": "code",
   "execution_count": 70,
   "id": "6b7b793b",
   "metadata": {},
   "outputs": [],
   "source": [
    "class LinearRegressionEncoder(BaseEstimator):\n",
    "    def __init__(self):\n",
    "        self.linreg = LinearRegression()\n",
    "        self.encoders = {}\n",
    "    \n",
    "    \n",
    "    def fit(self, X, y):\n",
    "        X_enc = X.copy()\n",
    "        categorical_features = X.columns[X.dtypes == 'object']\n",
    "        \n",
    "        for col in categorical_features:\n",
    "            le = LabelEncoder()\n",
    "            X_enc[col] = le.fit_transform(X[col])\n",
    "            self.encoders[col] = le\n",
    "            \n",
    "        self.linreg.fit(X_enc, y)\n",
    "\n",
    "        # считаем значимость\n",
    "        y_pred = self.linreg.predict(X_enc)\n",
    "        sse = np.sum((y_pred - y) ** 2, axis=0) / float(X_enc.shape[0] - X_enc.shape[1])\n",
    "        se = np.array([np.sqrt(np.diagonal(sse * np.linalg.pinv(np.dot(X_enc.T, X_enc))))])\n",
    "\n",
    "        self.t = self.linreg.coef_ / se\n",
    "        self.p = 2 * (1 - scipy.stats.t.cdf(np.abs(self.t), y.shape[0] - X_enc.shape[1]))\n",
    "        \n",
    "        return self\n",
    "    \n",
    "    def predict(self, X):\n",
    "        X_enc = X.copy()\n",
    "        categorical_features = X.columns[X.dtypes == 'object']\n",
    "        \n",
    "        for col in categorical_features:\n",
    "            X_enc[col] = self.encoders[col].transform(X[col])\n",
    "            \n",
    "        y_pred = self.linreg.predict(X_enc)\n",
    "        \n",
    "        return y_pred\n",
    "    \n",
    "    def score(self, X, y):        \n",
    "        \n",
    "        y_pred = self.predict(X)\n",
    "        return mean_absolute_error(y, y_pred)"
   ]
  },
  {
   "cell_type": "code",
   "execution_count": 71,
   "id": "8d9fb4b4",
   "metadata": {},
   "outputs": [
    {
     "data": {
      "text/plain": [
       "array([ 1.,  0., nan])"
      ]
     },
     "execution_count": 71,
     "metadata": {},
     "output_type": "execute_result"
    }
   ],
   "source": [
    "df.target.unique()"
   ]
  },
  {
   "cell_type": "code",
   "execution_count": 72,
   "id": "61c0f569",
   "metadata": {},
   "outputs": [
    {
     "name": "stdout",
     "output_type": "stream",
     "text": [
      "Wall time: 22 ms\n"
     ]
    },
    {
     "data": {
      "text/plain": [
       "LinearRegressionEncoder()"
      ]
     },
     "execution_count": 72,
     "metadata": {},
     "output_type": "execute_result"
    }
   ],
   "source": [
    "%%time\n",
    "linreg = LinearRegressionEncoder()\n",
    "linreg.fit(X_train, y_train)"
   ]
  },
  {
   "cell_type": "code",
   "execution_count": 73,
   "id": "1e2cd7e3",
   "metadata": {},
   "outputs": [
    {
     "name": "stdout",
     "output_type": "stream",
     "text": [
      "TRAIN MSE: 7.4971977724881365\n",
      "TEST MSE: 7.661175811821432\n"
     ]
    }
   ],
   "source": [
    "print('TRAIN MSE:', linreg.score(X_train, y_train))\n",
    "print('TEST MSE:', linreg.score(X_test, y_test))"
   ]
  },
  {
   "cell_type": "markdown",
   "id": "e3af2f38",
   "metadata": {},
   "source": [
    "### Ошибка на тесте не сильно больше чем на трейне. Значит модель отличная"
   ]
  },
  {
   "cell_type": "markdown",
   "id": "b8276510",
   "metadata": {},
   "source": [
    "Улучшим модель, исключив из данных незначимые факторы"
   ]
  },
  {
   "cell_type": "code",
   "execution_count": 74,
   "id": "a763a2a0",
   "metadata": {},
   "outputs": [
    {
     "name": "stdout",
     "output_type": "stream",
     "text": [
      "Unnamed: 0  -  1.4e-05\n",
      "Unnamed: 0.1  -  1.4e-05\n",
      "school  -  8e-06\n",
      "school_setting  -  0.005098\n",
      "school_type  -  1e-06\n",
      "classroom  -  0.593291\n",
      "teaching_method  -  0.0\n",
      "n_student  -  0.0\n",
      "gender  -  0.044671\n",
      "lunch  -  0.0\n"
     ]
    }
   ],
   "source": [
    "## здесь дописать\n",
    "for p_val, factor in itertools.zip_longest(np.array(linreg.p[0]), np.array(X.columns)):\n",
    "    print(factor, ' - ', round(p_val, 6))"
   ]
  },
  {
   "cell_type": "markdown",
   "id": "3a75eba3",
   "metadata": {},
   "source": [
    "удалим факторы у которых pvalue = 0 и перевзвесим коэффициенты"
   ]
  },
  {
   "cell_type": "code",
   "execution_count": 76,
   "id": "9444cdcc",
   "metadata": {},
   "outputs": [
    {
     "data": {
      "text/plain": [
       "['teaching_method', 'n_student', 'lunch']"
      ]
     },
     "execution_count": 76,
     "metadata": {},
     "output_type": "execute_result"
    }
   ],
   "source": [
    "sign = [f for p, f in itertools.zip_longest(np.array(linreg.p[0]), np.array(X.columns)) if p == 0]\n",
    "sign"
   ]
  },
  {
   "cell_type": "code",
   "execution_count": 77,
   "id": "82882218",
   "metadata": {},
   "outputs": [
    {
     "name": "stdout",
     "output_type": "stream",
     "text": [
      "Wall time: 13 ms\n"
     ]
    },
    {
     "data": {
      "text/plain": [
       "LinearRegressionEncoder()"
      ]
     },
     "execution_count": 77,
     "metadata": {},
     "output_type": "execute_result"
    }
   ],
   "source": [
    "%%time\n",
    "linreg2 = LinearRegressionEncoder()\n",
    "linreg2.fit(X_train.drop(sign, axis=1), y_train)"
   ]
  },
  {
   "cell_type": "code",
   "execution_count": 78,
   "id": "6b50988e",
   "metadata": {},
   "outputs": [
    {
     "name": "stdout",
     "output_type": "stream",
     "text": [
      "TRAIN MSE after drop insignificant: 9.948255552267824\n",
      "TEST MSE after drop insignificant 9.809958121750814\n"
     ]
    }
   ],
   "source": [
    "print('TRAIN MSE after drop insignificant:', \n",
    "      linreg2.score(X_train.drop(sign, axis=1), y_train))\n",
    "print('TEST MSE after drop insignificant', \n",
    "      linreg2.score(X_test.drop(sign, axis=1), y_test))"
   ]
  },
  {
   "cell_type": "markdown",
   "id": "ceead18b",
   "metadata": {},
   "source": [
    "### После удаления получили модель чуть похуже, но в ней оценки коэффициентов несмещены"
   ]
  },
  {
   "cell_type": "code",
   "execution_count": null,
   "id": "96da1800",
   "metadata": {},
   "outputs": [],
   "source": []
  }
 ],
 "metadata": {
  "kernelspec": {
   "display_name": "Python 3",
   "language": "python",
   "name": "python3"
  },
  "language_info": {
   "codemirror_mode": {
    "name": "ipython",
    "version": 3
   },
   "file_extension": ".py",
   "mimetype": "text/x-python",
   "name": "python",
   "nbconvert_exporter": "python",
   "pygments_lexer": "ipython3",
   "version": "3.9.3"
  }
 },
 "nbformat": 4,
 "nbformat_minor": 5
}
