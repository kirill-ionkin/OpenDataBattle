{
 "cells": [
  {
   "cell_type": "markdown",
   "id": "3d5131c1",
   "metadata": {},
   "source": [
    "## Небольшое вступление(для лучшего понимания читателем изложенного материала\n"
   ]
  },
  {
   "cell_type": "code",
   "execution_count": 1,
   "id": "adb6f7d3",
   "metadata": {},
   "outputs": [],
   "source": [
    "# 1) Выводы записаны не в тексовом файле, а в рабочем ноутбуке т.к.\n",
    "# те вовыды, которые будут получены можно будет сразу же и проверить, а также\n",
    "# появляется возможность иметь улучшенный прототип, который можно использовать\n",
    "\n",
    "# UPDATE: т.к. из чата прилетела инфа, что ноутбуки категорически запрещены,\n",
    "# решено перенести все выклдавки в pdf, но сам факт наличия воспроизводимого\n",
    "# анализа  + сам ноутбук будут не лишними\n",
    "\n",
    "# Ноут построен по аналогии как и данный нам, некоторые пункты идут не по порядку.\n",
    "# Надеюь он будет читабелен p.s. я старался сделать это)"
   ]
  },
  {
   "cell_type": "code",
   "execution_count": 64,
   "id": "9b40cdea",
   "metadata": {},
   "outputs": [],
   "source": [
    "import os\n",
    "import itertools\n",
    "from itertools import chain\n",
    "import random"
   ]
  },
  {
   "cell_type": "code",
   "execution_count": 3,
   "id": "7fa62235",
   "metadata": {},
   "outputs": [],
   "source": [
    "import numpy as np\n",
    "import scipy as sp\n",
    "\n",
    "import pandas as pd\n",
    "import missingno as msno\n",
    "\n",
    "import matplotlib.pyplot as plt\n",
    "import seaborn as sns\n",
    "\n",
    "plt.rcParams[\"figure.figsize\"] = (15, 10)\n",
    "%matplotlib inline"
   ]
  },
  {
   "cell_type": "code",
   "execution_count": 4,
   "id": "18757b40",
   "metadata": {},
   "outputs": [],
   "source": [
    "import sklearn\n",
    "from sklearn.preprocessing import LabelEncoder\n",
    "from sklearn.metrics import mean_absolute_error\n",
    "from sklearn.linear_model import LinearRegression\n",
    "from sklearn.model_selection import train_test_split"
   ]
  },
  {
   "cell_type": "code",
   "execution_count": 5,
   "id": "9f49bf47",
   "metadata": {},
   "outputs": [],
   "source": [
    "import torch\n",
    "import torch.nn as nn"
   ]
  },
  {
   "cell_type": "code",
   "execution_count": 107,
   "id": "d82887d0",
   "metadata": {},
   "outputs": [],
   "source": [
    "import warnings\n",
    "warnings.filterwarnings('ignore')"
   ]
  },
  {
   "cell_type": "code",
   "execution_count": 6,
   "id": "39a8d252",
   "metadata": {},
   "outputs": [],
   "source": [
    "SEED = 42\n",
    "\n",
    "ROOT = \"\"\n",
    "\n",
    "dataset_csv = \"dataset.csv\""
   ]
  },
  {
   "cell_type": "code",
   "execution_count": 7,
   "id": "9b4c7ec1",
   "metadata": {},
   "outputs": [],
   "source": [
    "def seed_everything(seed=SEED):\n",
    "    random.seed(seed)\n",
    "    os.environ['PYTHONHASHSEED'] = str(seed)\n",
    "    np.random.seed(seed)\n",
    "    torch.manual_seed(seed)\n",
    "    torch.cuda.manual_seed(seed)\n",
    "    torch.backends.cudnn.deterministic = True\n",
    "    \n",
    "seed_everything() # для воспроизводимости результатов"
   ]
  },
  {
   "cell_type": "markdown",
   "id": "34c343c2",
   "metadata": {},
   "source": [
    "# Представленная работа с внесёнными изменениями и моими размышлениями"
   ]
  },
  {
   "cell_type": "markdown",
   "id": "c6723c4f",
   "metadata": {},
   "source": [
    "### Загружаем библиотеки"
   ]
  },
  {
   "cell_type": "code",
   "execution_count": 8,
   "id": "f8fb4437",
   "metadata": {},
   "outputs": [],
   "source": [
    "# Здесь без комментариев т.к. это просто импорт библиотек"
   ]
  },
  {
   "cell_type": "markdown",
   "id": "58317ead",
   "metadata": {},
   "source": [
    "### Загружаем данные"
   ]
  },
  {
   "cell_type": "code",
   "execution_count": 9,
   "id": "93900cf3",
   "metadata": {},
   "outputs": [
    {
     "data": {
      "text/html": [
       "<div>\n",
       "<style scoped>\n",
       "    .dataframe tbody tr th:only-of-type {\n",
       "        vertical-align: middle;\n",
       "    }\n",
       "\n",
       "    .dataframe tbody tr th {\n",
       "        vertical-align: top;\n",
       "    }\n",
       "\n",
       "    .dataframe thead th {\n",
       "        text-align: right;\n",
       "    }\n",
       "</style>\n",
       "<table border=\"1\" class=\"dataframe\">\n",
       "  <thead>\n",
       "    <tr style=\"text-align: right;\">\n",
       "      <th></th>\n",
       "      <th>Unnamed: 0.1</th>\n",
       "      <th>school</th>\n",
       "      <th>school_setting</th>\n",
       "      <th>school_type</th>\n",
       "      <th>classroom</th>\n",
       "      <th>teaching_method</th>\n",
       "      <th>n_student</th>\n",
       "      <th>gender</th>\n",
       "      <th>lunch</th>\n",
       "      <th>posttest</th>\n",
       "      <th>target</th>\n",
       "    </tr>\n",
       "  </thead>\n",
       "  <tbody>\n",
       "    <tr>\n",
       "      <th>0</th>\n",
       "      <td>0</td>\n",
       "      <td>ANKYI</td>\n",
       "      <td>Urban</td>\n",
       "      <td>Non-public</td>\n",
       "      <td>6OL</td>\n",
       "      <td>Standard</td>\n",
       "      <td>20.0</td>\n",
       "      <td>Male</td>\n",
       "      <td>Does not qualify</td>\n",
       "      <td>72.0</td>\n",
       "      <td>1.0</td>\n",
       "    </tr>\n",
       "    <tr>\n",
       "      <th>1</th>\n",
       "      <td>1</td>\n",
       "      <td>ANKYI</td>\n",
       "      <td>Urban</td>\n",
       "      <td>Non-public</td>\n",
       "      <td>6OL</td>\n",
       "      <td>Standard</td>\n",
       "      <td>20.0</td>\n",
       "      <td>Male</td>\n",
       "      <td>Does not qualify</td>\n",
       "      <td>79.0</td>\n",
       "      <td>0.0</td>\n",
       "    </tr>\n",
       "    <tr>\n",
       "      <th>2</th>\n",
       "      <td>2</td>\n",
       "      <td>ANKYI</td>\n",
       "      <td>Urban</td>\n",
       "      <td>Non-public</td>\n",
       "      <td>6OL</td>\n",
       "      <td>Standard</td>\n",
       "      <td>NaN</td>\n",
       "      <td>Male</td>\n",
       "      <td>Does not qualify</td>\n",
       "      <td>76.0</td>\n",
       "      <td>1.0</td>\n",
       "    </tr>\n",
       "    <tr>\n",
       "      <th>3</th>\n",
       "      <td>3</td>\n",
       "      <td>ANKYI</td>\n",
       "      <td>Urban</td>\n",
       "      <td>Non-public</td>\n",
       "      <td>6OL</td>\n",
       "      <td>Standard</td>\n",
       "      <td>20.0</td>\n",
       "      <td>Male</td>\n",
       "      <td>Does not qualify</td>\n",
       "      <td>77.0</td>\n",
       "      <td>1.0</td>\n",
       "    </tr>\n",
       "    <tr>\n",
       "      <th>4</th>\n",
       "      <td>4</td>\n",
       "      <td>ANKYI</td>\n",
       "      <td>Urban</td>\n",
       "      <td>Non-public</td>\n",
       "      <td>6OL</td>\n",
       "      <td>Standard</td>\n",
       "      <td>20.0</td>\n",
       "      <td>Male</td>\n",
       "      <td>Does not qualify</td>\n",
       "      <td>76.0</td>\n",
       "      <td>0.0</td>\n",
       "    </tr>\n",
       "    <tr>\n",
       "      <th>...</th>\n",
       "      <td>...</td>\n",
       "      <td>...</td>\n",
       "      <td>...</td>\n",
       "      <td>...</td>\n",
       "      <td>...</td>\n",
       "      <td>...</td>\n",
       "      <td>...</td>\n",
       "      <td>...</td>\n",
       "      <td>...</td>\n",
       "      <td>...</td>\n",
       "      <td>...</td>\n",
       "    </tr>\n",
       "    <tr>\n",
       "      <th>2128</th>\n",
       "      <td>2128</td>\n",
       "      <td>ZOWMK</td>\n",
       "      <td>Urban</td>\n",
       "      <td>Public</td>\n",
       "      <td>ZBH</td>\n",
       "      <td>Standard</td>\n",
       "      <td>30.0</td>\n",
       "      <td>Female</td>\n",
       "      <td>Does not qualify</td>\n",
       "      <td>55.0</td>\n",
       "      <td>NaN</td>\n",
       "    </tr>\n",
       "    <tr>\n",
       "      <th>2129</th>\n",
       "      <td>2129</td>\n",
       "      <td>ZOWMK</td>\n",
       "      <td>Urban</td>\n",
       "      <td>Public</td>\n",
       "      <td>ZBH</td>\n",
       "      <td>Standard</td>\n",
       "      <td>30.0</td>\n",
       "      <td>Female</td>\n",
       "      <td>Qualifies for reduced/free lunch</td>\n",
       "      <td>46.0</td>\n",
       "      <td>NaN</td>\n",
       "    </tr>\n",
       "    <tr>\n",
       "      <th>2130</th>\n",
       "      <td>2130</td>\n",
       "      <td>ZOWMK</td>\n",
       "      <td>Urban</td>\n",
       "      <td>Public</td>\n",
       "      <td>ZBH</td>\n",
       "      <td>Standard</td>\n",
       "      <td>30.0</td>\n",
       "      <td>Female</td>\n",
       "      <td>Qualifies for reduced/free lunch</td>\n",
       "      <td>51.0</td>\n",
       "      <td>NaN</td>\n",
       "    </tr>\n",
       "    <tr>\n",
       "      <th>2131</th>\n",
       "      <td>2131</td>\n",
       "      <td>ZOWMK</td>\n",
       "      <td>Urban</td>\n",
       "      <td>Public</td>\n",
       "      <td>ZBH</td>\n",
       "      <td>Standard</td>\n",
       "      <td>30.0</td>\n",
       "      <td>Male</td>\n",
       "      <td>Qualifies for reduced/free lunch</td>\n",
       "      <td>53.0</td>\n",
       "      <td>NaN</td>\n",
       "    </tr>\n",
       "    <tr>\n",
       "      <th>2132</th>\n",
       "      <td>2132</td>\n",
       "      <td>ZOWMK</td>\n",
       "      <td>Urban</td>\n",
       "      <td>Public</td>\n",
       "      <td>ZBH</td>\n",
       "      <td>Standard</td>\n",
       "      <td>30.0</td>\n",
       "      <td>Male</td>\n",
       "      <td>Qualifies for reduced/free lunch</td>\n",
       "      <td>48.0</td>\n",
       "      <td>NaN</td>\n",
       "    </tr>\n",
       "  </tbody>\n",
       "</table>\n",
       "<p>2133 rows × 11 columns</p>\n",
       "</div>"
      ],
      "text/plain": [
       "      Unnamed: 0.1 school school_setting school_type classroom  \\\n",
       "0                0  ANKYI          Urban  Non-public       6OL   \n",
       "1                1  ANKYI          Urban  Non-public       6OL   \n",
       "2                2  ANKYI          Urban  Non-public       6OL   \n",
       "3                3  ANKYI          Urban  Non-public       6OL   \n",
       "4                4  ANKYI          Urban  Non-public       6OL   \n",
       "...            ...    ...            ...         ...       ...   \n",
       "2128          2128  ZOWMK          Urban      Public       ZBH   \n",
       "2129          2129  ZOWMK          Urban      Public       ZBH   \n",
       "2130          2130  ZOWMK          Urban      Public       ZBH   \n",
       "2131          2131  ZOWMK          Urban      Public       ZBH   \n",
       "2132          2132  ZOWMK          Urban      Public       ZBH   \n",
       "\n",
       "     teaching_method  n_student  gender                             lunch  \\\n",
       "0           Standard       20.0    Male                  Does not qualify   \n",
       "1           Standard       20.0    Male                  Does not qualify   \n",
       "2           Standard        NaN    Male                  Does not qualify   \n",
       "3           Standard       20.0    Male                  Does not qualify   \n",
       "4           Standard       20.0    Male                  Does not qualify   \n",
       "...              ...        ...     ...                               ...   \n",
       "2128        Standard       30.0  Female                  Does not qualify   \n",
       "2129        Standard       30.0  Female  Qualifies for reduced/free lunch   \n",
       "2130        Standard       30.0  Female  Qualifies for reduced/free lunch   \n",
       "2131        Standard       30.0    Male  Qualifies for reduced/free lunch   \n",
       "2132        Standard       30.0    Male  Qualifies for reduced/free lunch   \n",
       "\n",
       "      posttest  target  \n",
       "0         72.0     1.0  \n",
       "1         79.0     0.0  \n",
       "2         76.0     1.0  \n",
       "3         77.0     1.0  \n",
       "4         76.0     0.0  \n",
       "...        ...     ...  \n",
       "2128      55.0     NaN  \n",
       "2129      46.0     NaN  \n",
       "2130      51.0     NaN  \n",
       "2131      53.0     NaN  \n",
       "2132      48.0     NaN  \n",
       "\n",
       "[2133 rows x 11 columns]"
      ]
     },
     "execution_count": 9,
     "metadata": {},
     "output_type": "execute_result"
    }
   ],
   "source": [
    "data_df = pd.read_csv(os.path.join(ROOT, dataset_csv), sep=\";\", index_col=0, header=0)\n",
    "data_df"
   ]
  },
  {
   "cell_type": "code",
   "execution_count": 10,
   "id": "c11cef09",
   "metadata": {},
   "outputs": [
    {
     "name": "stdout",
     "output_type": "stream",
     "text": [
      "(2133, 10)\n"
     ]
    },
    {
     "data": {
      "text/html": [
       "<div>\n",
       "<style scoped>\n",
       "    .dataframe tbody tr th:only-of-type {\n",
       "        vertical-align: middle;\n",
       "    }\n",
       "\n",
       "    .dataframe tbody tr th {\n",
       "        vertical-align: top;\n",
       "    }\n",
       "\n",
       "    .dataframe thead th {\n",
       "        text-align: right;\n",
       "    }\n",
       "</style>\n",
       "<table border=\"1\" class=\"dataframe\">\n",
       "  <thead>\n",
       "    <tr style=\"text-align: right;\">\n",
       "      <th></th>\n",
       "      <th>school</th>\n",
       "      <th>school_setting</th>\n",
       "      <th>school_type</th>\n",
       "      <th>classroom</th>\n",
       "      <th>teaching_method</th>\n",
       "      <th>n_student</th>\n",
       "      <th>gender</th>\n",
       "      <th>lunch</th>\n",
       "      <th>posttest</th>\n",
       "      <th>target</th>\n",
       "    </tr>\n",
       "  </thead>\n",
       "  <tbody>\n",
       "    <tr>\n",
       "      <th>0</th>\n",
       "      <td>ANKYI</td>\n",
       "      <td>Urban</td>\n",
       "      <td>Non-public</td>\n",
       "      <td>6OL</td>\n",
       "      <td>Standard</td>\n",
       "      <td>20.0</td>\n",
       "      <td>Male</td>\n",
       "      <td>Does not qualify</td>\n",
       "      <td>72.0</td>\n",
       "      <td>1.0</td>\n",
       "    </tr>\n",
       "    <tr>\n",
       "      <th>1</th>\n",
       "      <td>ANKYI</td>\n",
       "      <td>Urban</td>\n",
       "      <td>Non-public</td>\n",
       "      <td>6OL</td>\n",
       "      <td>Standard</td>\n",
       "      <td>20.0</td>\n",
       "      <td>Male</td>\n",
       "      <td>Does not qualify</td>\n",
       "      <td>79.0</td>\n",
       "      <td>0.0</td>\n",
       "    </tr>\n",
       "    <tr>\n",
       "      <th>2</th>\n",
       "      <td>ANKYI</td>\n",
       "      <td>Urban</td>\n",
       "      <td>Non-public</td>\n",
       "      <td>6OL</td>\n",
       "      <td>Standard</td>\n",
       "      <td>NaN</td>\n",
       "      <td>Male</td>\n",
       "      <td>Does not qualify</td>\n",
       "      <td>76.0</td>\n",
       "      <td>1.0</td>\n",
       "    </tr>\n",
       "    <tr>\n",
       "      <th>3</th>\n",
       "      <td>ANKYI</td>\n",
       "      <td>Urban</td>\n",
       "      <td>Non-public</td>\n",
       "      <td>6OL</td>\n",
       "      <td>Standard</td>\n",
       "      <td>20.0</td>\n",
       "      <td>Male</td>\n",
       "      <td>Does not qualify</td>\n",
       "      <td>77.0</td>\n",
       "      <td>1.0</td>\n",
       "    </tr>\n",
       "    <tr>\n",
       "      <th>4</th>\n",
       "      <td>ANKYI</td>\n",
       "      <td>Urban</td>\n",
       "      <td>Non-public</td>\n",
       "      <td>6OL</td>\n",
       "      <td>Standard</td>\n",
       "      <td>20.0</td>\n",
       "      <td>Male</td>\n",
       "      <td>Does not qualify</td>\n",
       "      <td>76.0</td>\n",
       "      <td>0.0</td>\n",
       "    </tr>\n",
       "    <tr>\n",
       "      <th>...</th>\n",
       "      <td>...</td>\n",
       "      <td>...</td>\n",
       "      <td>...</td>\n",
       "      <td>...</td>\n",
       "      <td>...</td>\n",
       "      <td>...</td>\n",
       "      <td>...</td>\n",
       "      <td>...</td>\n",
       "      <td>...</td>\n",
       "      <td>...</td>\n",
       "    </tr>\n",
       "    <tr>\n",
       "      <th>2128</th>\n",
       "      <td>ZOWMK</td>\n",
       "      <td>Urban</td>\n",
       "      <td>Public</td>\n",
       "      <td>ZBH</td>\n",
       "      <td>Standard</td>\n",
       "      <td>30.0</td>\n",
       "      <td>Female</td>\n",
       "      <td>Does not qualify</td>\n",
       "      <td>55.0</td>\n",
       "      <td>NaN</td>\n",
       "    </tr>\n",
       "    <tr>\n",
       "      <th>2129</th>\n",
       "      <td>ZOWMK</td>\n",
       "      <td>Urban</td>\n",
       "      <td>Public</td>\n",
       "      <td>ZBH</td>\n",
       "      <td>Standard</td>\n",
       "      <td>30.0</td>\n",
       "      <td>Female</td>\n",
       "      <td>Qualifies for reduced/free lunch</td>\n",
       "      <td>46.0</td>\n",
       "      <td>NaN</td>\n",
       "    </tr>\n",
       "    <tr>\n",
       "      <th>2130</th>\n",
       "      <td>ZOWMK</td>\n",
       "      <td>Urban</td>\n",
       "      <td>Public</td>\n",
       "      <td>ZBH</td>\n",
       "      <td>Standard</td>\n",
       "      <td>30.0</td>\n",
       "      <td>Female</td>\n",
       "      <td>Qualifies for reduced/free lunch</td>\n",
       "      <td>51.0</td>\n",
       "      <td>NaN</td>\n",
       "    </tr>\n",
       "    <tr>\n",
       "      <th>2131</th>\n",
       "      <td>ZOWMK</td>\n",
       "      <td>Urban</td>\n",
       "      <td>Public</td>\n",
       "      <td>ZBH</td>\n",
       "      <td>Standard</td>\n",
       "      <td>30.0</td>\n",
       "      <td>Male</td>\n",
       "      <td>Qualifies for reduced/free lunch</td>\n",
       "      <td>53.0</td>\n",
       "      <td>NaN</td>\n",
       "    </tr>\n",
       "    <tr>\n",
       "      <th>2132</th>\n",
       "      <td>ZOWMK</td>\n",
       "      <td>Urban</td>\n",
       "      <td>Public</td>\n",
       "      <td>ZBH</td>\n",
       "      <td>Standard</td>\n",
       "      <td>30.0</td>\n",
       "      <td>Male</td>\n",
       "      <td>Qualifies for reduced/free lunch</td>\n",
       "      <td>48.0</td>\n",
       "      <td>NaN</td>\n",
       "    </tr>\n",
       "  </tbody>\n",
       "</table>\n",
       "<p>2133 rows × 10 columns</p>\n",
       "</div>"
      ],
      "text/plain": [
       "     school school_setting school_type classroom teaching_method  n_student  \\\n",
       "0     ANKYI          Urban  Non-public       6OL        Standard       20.0   \n",
       "1     ANKYI          Urban  Non-public       6OL        Standard       20.0   \n",
       "2     ANKYI          Urban  Non-public       6OL        Standard        NaN   \n",
       "3     ANKYI          Urban  Non-public       6OL        Standard       20.0   \n",
       "4     ANKYI          Urban  Non-public       6OL        Standard       20.0   \n",
       "...     ...            ...         ...       ...             ...        ...   \n",
       "2128  ZOWMK          Urban      Public       ZBH        Standard       30.0   \n",
       "2129  ZOWMK          Urban      Public       ZBH        Standard       30.0   \n",
       "2130  ZOWMK          Urban      Public       ZBH        Standard       30.0   \n",
       "2131  ZOWMK          Urban      Public       ZBH        Standard       30.0   \n",
       "2132  ZOWMK          Urban      Public       ZBH        Standard       30.0   \n",
       "\n",
       "      gender                             lunch  posttest  target  \n",
       "0       Male                  Does not qualify      72.0     1.0  \n",
       "1       Male                  Does not qualify      79.0     0.0  \n",
       "2       Male                  Does not qualify      76.0     1.0  \n",
       "3       Male                  Does not qualify      77.0     1.0  \n",
       "4       Male                  Does not qualify      76.0     0.0  \n",
       "...      ...                               ...       ...     ...  \n",
       "2128  Female                  Does not qualify      55.0     NaN  \n",
       "2129  Female  Qualifies for reduced/free lunch      46.0     NaN  \n",
       "2130  Female  Qualifies for reduced/free lunch      51.0     NaN  \n",
       "2131    Male  Qualifies for reduced/free lunch      53.0     NaN  \n",
       "2132    Male  Qualifies for reduced/free lunch      48.0     NaN  \n",
       "\n",
       "[2133 rows x 10 columns]"
      ]
     },
     "execution_count": 10,
     "metadata": {},
     "output_type": "execute_result"
    }
   ],
   "source": [
    "# Первый и явно пропущенный шаг(возможно это ошибка на этапе пересохранения\n",
    "# файла и выставление на площадку для соревнования), это то, что возникают\n",
    "# 2 первые колонки дубликатов(в изначальном варианте Model_students_upd.ipynb)\n",
    "\n",
    "# Избавимся от этих столбцов(в моём случае от одного столбца т.к.\n",
    "# 1-ый я занём в  индекс) т.к. очевидно он бесполезны(бесполезен)\n",
    "\n",
    "df = data_df.copy()\n",
    "df = df.drop(columns=[\"Unnamed: 0.1\"])\n",
    "print(df.shape)\n",
    "df"
   ]
  },
  {
   "cell_type": "code",
   "execution_count": null,
   "id": "b4bd2f88",
   "metadata": {},
   "outputs": [],
   "source": []
  },
  {
   "cell_type": "markdown",
   "id": "715695da",
   "metadata": {},
   "source": [
    "### Заменим пропуски в данных"
   ]
  },
  {
   "cell_type": "code",
   "execution_count": 11,
   "id": "8d1b44cd",
   "metadata": {},
   "outputs": [],
   "source": [
    "# заполняем \"n_student\" т.к. данная статистика необхожима для дальнейшего создания фичи, предложенной авторами"
   ]
  },
  {
   "cell_type": "code",
   "execution_count": 12,
   "id": "5994b2aa",
   "metadata": {},
   "outputs": [],
   "source": [
    "df[\"n_student\"].fillna(df[\"n_student\"].mean(), inplace=True)"
   ]
  },
  {
   "cell_type": "markdown",
   "id": "796d92d2",
   "metadata": {},
   "source": [
    "### Заинжинирим новую переменную"
   ]
  },
  {
   "cell_type": "code",
   "execution_count": 15,
   "id": "079e7501",
   "metadata": {},
   "outputs": [],
   "source": [
    "# Чтобы посчитать статистику по всему df, производим инженеринг данных сначала, а потом\n",
    "# уже делим df на train/test"
   ]
  },
  {
   "cell_type": "code",
   "execution_count": 24,
   "id": "3c43bd95",
   "metadata": {},
   "outputs": [],
   "source": [
    "# здесь без особого комментирование, т.к. создание новых фичей дело\n",
    "# творческое\n",
    "\n",
    "def create_woe_feature(df):\n",
    "    for i in df.gender.unique():\n",
    "        for j in df.n_student.unique():\n",
    "            l=df.loc[(df.gender==i) & (df.n_student>=j)]\n",
    "            woe=l.target.sum()/(l.target.count() - df.target.mean() - 1)\n",
    "            df.loc[(df.gender==i) & (df.n_student>=j), 'woe_agegender']=woe\n",
    "\n",
    "create_woe_feature(df)"
   ]
  },
  {
   "cell_type": "code",
   "execution_count": 25,
   "id": "672220a1",
   "metadata": {},
   "outputs": [
    {
     "data": {
      "text/html": [
       "<div>\n",
       "<style scoped>\n",
       "    .dataframe tbody tr th:only-of-type {\n",
       "        vertical-align: middle;\n",
       "    }\n",
       "\n",
       "    .dataframe tbody tr th {\n",
       "        vertical-align: top;\n",
       "    }\n",
       "\n",
       "    .dataframe thead th {\n",
       "        text-align: right;\n",
       "    }\n",
       "</style>\n",
       "<table border=\"1\" class=\"dataframe\">\n",
       "  <thead>\n",
       "    <tr style=\"text-align: right;\">\n",
       "      <th></th>\n",
       "      <th>school</th>\n",
       "      <th>school_setting</th>\n",
       "      <th>school_type</th>\n",
       "      <th>classroom</th>\n",
       "      <th>teaching_method</th>\n",
       "      <th>n_student</th>\n",
       "      <th>gender</th>\n",
       "      <th>lunch</th>\n",
       "      <th>posttest</th>\n",
       "      <th>target</th>\n",
       "      <th>woe_agegender</th>\n",
       "    </tr>\n",
       "  </thead>\n",
       "  <tbody>\n",
       "    <tr>\n",
       "      <th>0</th>\n",
       "      <td>ANKYI</td>\n",
       "      <td>Urban</td>\n",
       "      <td>Non-public</td>\n",
       "      <td>6OL</td>\n",
       "      <td>Standard</td>\n",
       "      <td>20.00000</td>\n",
       "      <td>Male</td>\n",
       "      <td>Does not qualify</td>\n",
       "      <td>72.0</td>\n",
       "      <td>1.0</td>\n",
       "      <td>0.503355</td>\n",
       "    </tr>\n",
       "    <tr>\n",
       "      <th>1</th>\n",
       "      <td>ANKYI</td>\n",
       "      <td>Urban</td>\n",
       "      <td>Non-public</td>\n",
       "      <td>6OL</td>\n",
       "      <td>Standard</td>\n",
       "      <td>20.00000</td>\n",
       "      <td>Male</td>\n",
       "      <td>Does not qualify</td>\n",
       "      <td>79.0</td>\n",
       "      <td>0.0</td>\n",
       "      <td>0.503355</td>\n",
       "    </tr>\n",
       "    <tr>\n",
       "      <th>2</th>\n",
       "      <td>ANKYI</td>\n",
       "      <td>Urban</td>\n",
       "      <td>Non-public</td>\n",
       "      <td>6OL</td>\n",
       "      <td>Standard</td>\n",
       "      <td>22.75339</td>\n",
       "      <td>Male</td>\n",
       "      <td>Does not qualify</td>\n",
       "      <td>76.0</td>\n",
       "      <td>1.0</td>\n",
       "      <td>0.508093</td>\n",
       "    </tr>\n",
       "    <tr>\n",
       "      <th>3</th>\n",
       "      <td>ANKYI</td>\n",
       "      <td>Urban</td>\n",
       "      <td>Non-public</td>\n",
       "      <td>6OL</td>\n",
       "      <td>Standard</td>\n",
       "      <td>20.00000</td>\n",
       "      <td>Male</td>\n",
       "      <td>Does not qualify</td>\n",
       "      <td>77.0</td>\n",
       "      <td>1.0</td>\n",
       "      <td>0.503355</td>\n",
       "    </tr>\n",
       "    <tr>\n",
       "      <th>4</th>\n",
       "      <td>ANKYI</td>\n",
       "      <td>Urban</td>\n",
       "      <td>Non-public</td>\n",
       "      <td>6OL</td>\n",
       "      <td>Standard</td>\n",
       "      <td>20.00000</td>\n",
       "      <td>Male</td>\n",
       "      <td>Does not qualify</td>\n",
       "      <td>76.0</td>\n",
       "      <td>0.0</td>\n",
       "      <td>0.503355</td>\n",
       "    </tr>\n",
       "    <tr>\n",
       "      <th>...</th>\n",
       "      <td>...</td>\n",
       "      <td>...</td>\n",
       "      <td>...</td>\n",
       "      <td>...</td>\n",
       "      <td>...</td>\n",
       "      <td>...</td>\n",
       "      <td>...</td>\n",
       "      <td>...</td>\n",
       "      <td>...</td>\n",
       "      <td>...</td>\n",
       "      <td>...</td>\n",
       "    </tr>\n",
       "    <tr>\n",
       "      <th>2128</th>\n",
       "      <td>ZOWMK</td>\n",
       "      <td>Urban</td>\n",
       "      <td>Public</td>\n",
       "      <td>ZBH</td>\n",
       "      <td>Standard</td>\n",
       "      <td>30.00000</td>\n",
       "      <td>Female</td>\n",
       "      <td>Does not qualify</td>\n",
       "      <td>55.0</td>\n",
       "      <td>NaN</td>\n",
       "      <td>0.542657</td>\n",
       "    </tr>\n",
       "    <tr>\n",
       "      <th>2129</th>\n",
       "      <td>ZOWMK</td>\n",
       "      <td>Urban</td>\n",
       "      <td>Public</td>\n",
       "      <td>ZBH</td>\n",
       "      <td>Standard</td>\n",
       "      <td>30.00000</td>\n",
       "      <td>Female</td>\n",
       "      <td>Qualifies for reduced/free lunch</td>\n",
       "      <td>46.0</td>\n",
       "      <td>NaN</td>\n",
       "      <td>0.542657</td>\n",
       "    </tr>\n",
       "    <tr>\n",
       "      <th>2130</th>\n",
       "      <td>ZOWMK</td>\n",
       "      <td>Urban</td>\n",
       "      <td>Public</td>\n",
       "      <td>ZBH</td>\n",
       "      <td>Standard</td>\n",
       "      <td>30.00000</td>\n",
       "      <td>Female</td>\n",
       "      <td>Qualifies for reduced/free lunch</td>\n",
       "      <td>51.0</td>\n",
       "      <td>NaN</td>\n",
       "      <td>0.542657</td>\n",
       "    </tr>\n",
       "    <tr>\n",
       "      <th>2131</th>\n",
       "      <td>ZOWMK</td>\n",
       "      <td>Urban</td>\n",
       "      <td>Public</td>\n",
       "      <td>ZBH</td>\n",
       "      <td>Standard</td>\n",
       "      <td>30.00000</td>\n",
       "      <td>Male</td>\n",
       "      <td>Qualifies for reduced/free lunch</td>\n",
       "      <td>53.0</td>\n",
       "      <td>NaN</td>\n",
       "      <td>0.606472</td>\n",
       "    </tr>\n",
       "    <tr>\n",
       "      <th>2132</th>\n",
       "      <td>ZOWMK</td>\n",
       "      <td>Urban</td>\n",
       "      <td>Public</td>\n",
       "      <td>ZBH</td>\n",
       "      <td>Standard</td>\n",
       "      <td>30.00000</td>\n",
       "      <td>Male</td>\n",
       "      <td>Qualifies for reduced/free lunch</td>\n",
       "      <td>48.0</td>\n",
       "      <td>NaN</td>\n",
       "      <td>0.606472</td>\n",
       "    </tr>\n",
       "  </tbody>\n",
       "</table>\n",
       "<p>2133 rows × 11 columns</p>\n",
       "</div>"
      ],
      "text/plain": [
       "     school school_setting school_type classroom teaching_method  n_student  \\\n",
       "0     ANKYI          Urban  Non-public       6OL        Standard   20.00000   \n",
       "1     ANKYI          Urban  Non-public       6OL        Standard   20.00000   \n",
       "2     ANKYI          Urban  Non-public       6OL        Standard   22.75339   \n",
       "3     ANKYI          Urban  Non-public       6OL        Standard   20.00000   \n",
       "4     ANKYI          Urban  Non-public       6OL        Standard   20.00000   \n",
       "...     ...            ...         ...       ...             ...        ...   \n",
       "2128  ZOWMK          Urban      Public       ZBH        Standard   30.00000   \n",
       "2129  ZOWMK          Urban      Public       ZBH        Standard   30.00000   \n",
       "2130  ZOWMK          Urban      Public       ZBH        Standard   30.00000   \n",
       "2131  ZOWMK          Urban      Public       ZBH        Standard   30.00000   \n",
       "2132  ZOWMK          Urban      Public       ZBH        Standard   30.00000   \n",
       "\n",
       "      gender                             lunch  posttest  target  \\\n",
       "0       Male                  Does not qualify      72.0     1.0   \n",
       "1       Male                  Does not qualify      79.0     0.0   \n",
       "2       Male                  Does not qualify      76.0     1.0   \n",
       "3       Male                  Does not qualify      77.0     1.0   \n",
       "4       Male                  Does not qualify      76.0     0.0   \n",
       "...      ...                               ...       ...     ...   \n",
       "2128  Female                  Does not qualify      55.0     NaN   \n",
       "2129  Female  Qualifies for reduced/free lunch      46.0     NaN   \n",
       "2130  Female  Qualifies for reduced/free lunch      51.0     NaN   \n",
       "2131    Male  Qualifies for reduced/free lunch      53.0     NaN   \n",
       "2132    Male  Qualifies for reduced/free lunch      48.0     NaN   \n",
       "\n",
       "      woe_agegender  \n",
       "0          0.503355  \n",
       "1          0.503355  \n",
       "2          0.508093  \n",
       "3          0.503355  \n",
       "4          0.503355  \n",
       "...             ...  \n",
       "2128       0.542657  \n",
       "2129       0.542657  \n",
       "2130       0.542657  \n",
       "2131       0.606472  \n",
       "2132       0.606472  \n",
       "\n",
       "[2133 rows x 11 columns]"
      ]
     },
     "execution_count": 25,
     "metadata": {},
     "output_type": "execute_result"
    }
   ],
   "source": [
    "df"
   ]
  },
  {
   "cell_type": "code",
   "execution_count": null,
   "id": "9799b66a",
   "metadata": {},
   "outputs": [],
   "source": []
  },
  {
   "cell_type": "markdown",
   "id": "4a7fbd21",
   "metadata": {},
   "source": [
    "### Разобьем выборку на train / test"
   ]
  },
  {
   "cell_type": "code",
   "execution_count": 26,
   "id": "9b4418e9",
   "metadata": {},
   "outputs": [],
   "source": [
    "# Перед тем, как разбивать данные на train/test, я задамся вопросом, а что\n",
    "# от модели хотят получить?\n",
    "\n",
    "# Ответ: Задача построить модель прогнозирования факта сдачи теста.\n",
    "\n",
    "# Т.е. по факту наша модель на основе данных(нагенерированных фичей)\n",
    "# конкретного ученика должна выдать нам вероятность того, что данный ученик\n",
    "# сдаст тест\n",
    "\n",
    "# Т.е. если вероятность сдачи напрямую определяется через кол-во баллов,\n",
    "# полученных учеником, то поиск конкретных баллов ученика должен нам помочь "
   ]
  },
  {
   "cell_type": "code",
   "execution_count": 27,
   "id": "9a158a3f",
   "metadata": {},
   "outputs": [
    {
     "data": {
      "text/plain": [
       "Text(0.5, 1.0, 'Распределение кол-ва сдавших/не сдавших в зависиости от баллов за тест')"
      ]
     },
     "execution_count": 27,
     "metadata": {},
     "output_type": "execute_result"
    },
    {
     "data": {
      "image/png": "[encoded data removed]",
      "text/plain": [
       "<Figure size 720x504 with 1 Axes>"
      ]
     },
     "metadata": {
      "needs_background": "light"
     },
     "output_type": "display_data"
    }
   ],
   "source": [
    "# Давайте проверим, а на сколько кол-во баллов влияют на сдачу теста\n",
    "\n",
    "plt.figure(figsize=(10, 7))\n",
    "sns.histplot(x=\"posttest\", data=df, hue=\"target\", palette=[\"yellow\", \"blue\"]);\n",
    "plt.title('Распределение кол-ва сдавших/не сдавших в зависиости от баллов за тест')"
   ]
  },
  {
   "cell_type": "code",
   "execution_count": 28,
   "id": "e578d647",
   "metadata": {},
   "outputs": [],
   "source": [
    "# Как можно заметить, распределения \"практически\" тождественны, что\n",
    "# никак не помогает ответить на вопрос об удачности сдачи теста, а\n",
    "# использование в качестве таргета колонку - \"posttest\"(баллы за тест), \n",
    "# является ошибкой на уровне понимания вопроса, поставленного перед\n",
    "# нами\n",
    "\n",
    "# ИСПРАВЛЕНИЯ:\n",
    "# 1) Тарегет: - это сам факт сдачи/ не сдачи учеником теста - колонка \"target\"\n",
    "# 2) В качестве лосса теперь используем лог-лосс(кросс энтропия)\n",
    "# 3) Модель - логистическая регрессия(предположим, что\n",
    "# раз используется именно лин.регрессия, то подразумевается использование\n",
    "# класса линейных моделей)"
   ]
  },
  {
   "cell_type": "code",
   "execution_count": 29,
   "id": "46fef7c3",
   "metadata": {},
   "outputs": [
    {
     "data": {
      "image/png": "[encoded data removed]",
      "text/plain": [
       "<Figure size 1800x720 with 2 Axes>"
      ]
     },
     "metadata": {
      "needs_background": "light"
     },
     "output_type": "display_data"
    }
   ],
   "source": [
    "# Таким образом производим разбитие данных на train/test\n",
    "\n",
    "# Но, перед этим убедимся, что столбец target не содержит NaN\n",
    "\n",
    "msno.matrix(df);"
   ]
  },
  {
   "cell_type": "code",
   "execution_count": 30,
   "id": "0af5c2ea",
   "metadata": {},
   "outputs": [
    {
     "name": "stdout",
     "output_type": "stream",
     "text": [
      "Процентное соотношение пропусков в target:  0.0046882325363338025\n"
     ]
    }
   ],
   "source": [
    "# Как можно заметить, в самом конце имеются пропуски,\n",
    "print(\"Процентное соотношение пропусков в target: \", df[\"target\"].isna().sum() / len(df))\n",
    "\n",
    "# От них можно просто избавиться\n",
    "df = df[~df[\"target\"].isna()]"
   ]
  },
  {
   "cell_type": "code",
   "execution_count": 31,
   "id": "873092e8",
   "metadata": {},
   "outputs": [
    {
     "data": {
      "text/plain": [
       "1.0    0.502591\n",
       "0.0    0.497409\n",
       "Name: target, dtype: float64"
      ]
     },
     "execution_count": 31,
     "metadata": {},
     "output_type": "execute_result"
    }
   ],
   "source": [
    "# Таким образом производим разбитие данных на train/test, \n",
    "# но перед этим посмотрим, на соотношение класов target в df\n",
    "\n",
    "df[\"target\"].value_counts(normalize=True)"
   ]
  },
  {
   "cell_type": "code",
   "execution_count": 32,
   "id": "d898c05b",
   "metadata": {},
   "outputs": [
    {
     "data": {
      "text/plain": [
       "((1698, 10), (1698,), (425, 10), (425,))"
      ]
     },
     "execution_count": 32,
     "metadata": {},
     "output_type": "execute_result"
    }
   ],
   "source": [
    "# Как видим, дисбаланса классов не наблюдается, но\n",
    "# в отличие от авторского примера, разбиение будем делать\n",
    "# стратифицированное по target\n",
    "\n",
    "# Таким образом производим разбитие данных на train/test\n",
    "\n",
    "X = df.drop(columns=[\"target\"])\n",
    "y = df[\"target\"]\n",
    "\n",
    "X_train, X_test, y_train, y_test =\\\n",
    "    train_test_split(X, y, test_size=0.2, random_state=SEED, stratify=y)\n",
    "X_train.shape, y_train.shape, X_test.shape, y_test.shape "
   ]
  },
  {
   "cell_type": "code",
   "execution_count": 33,
   "id": "8143246f",
   "metadata": {},
   "outputs": [
    {
     "data": {
      "text/plain": [
       "1.0    0.502356\n",
       "0.0    0.497644\n",
       "Name: target, dtype: float64"
      ]
     },
     "execution_count": 33,
     "metadata": {},
     "output_type": "execute_result"
    }
   ],
   "source": [
    "# убедимся, что стратификация отработала\n",
    "y_train.value_counts(normalize=True)"
   ]
  },
  {
   "cell_type": "code",
   "execution_count": 34,
   "id": "e7f4b7cd",
   "metadata": {},
   "outputs": [
    {
     "data": {
      "text/plain": [
       "1.0    0.503529\n",
       "0.0    0.496471\n",
       "Name: target, dtype: float64"
      ]
     },
     "execution_count": 34,
     "metadata": {},
     "output_type": "execute_result"
    }
   ],
   "source": [
    "y_test.value_counts(normalize=True)"
   ]
  },
  {
   "cell_type": "markdown",
   "id": "f1df951b",
   "metadata": {},
   "source": [
    "### Дальше накинем one-hot encoding( + StandartScaler)"
   ]
  },
  {
   "cell_type": "code",
   "execution_count": 38,
   "id": "2fb4d2be",
   "metadata": {},
   "outputs": [
    {
     "data": {
      "text/plain": [
       "array(['school', 'school_setting', 'school_type', 'classroom',\n",
       "       'teaching_method', 'n_student', 'gender', 'lunch', 'posttest',\n",
       "       'target', 'woe_agegender'], dtype=object)"
      ]
     },
     "execution_count": 38,
     "metadata": {},
     "output_type": "execute_result"
    }
   ],
   "source": [
    "df.columns.values"
   ]
  },
  {
   "cell_type": "code",
   "execution_count": 49,
   "id": "e6413060",
   "metadata": {},
   "outputs": [],
   "source": [
    "num_columns = [\"n_student\", \"posttest\", \"woe_agegender\"]\n",
    "cat_columns = [\"school\", \"school_setting\", \"school_type\", \"classroom\", \"teaching_method\", \"gender\", \"lunch\"]\n",
    "target = \"target\""
   ]
  },
  {
   "cell_type": "code",
   "execution_count": 40,
   "id": "47a6dcea",
   "metadata": {},
   "outputs": [],
   "source": [
    "# В Model_students_upd.ipynb происходит не one-hot-encoding,\n",
    "# а label encoding.\n",
    "\n",
    "# Для применения label encoding нужно как минимум проверить, а являются\n",
    "# ли данные порядковыми + было бы желательно обладать знаниями о \n",
    "# том, как можно смоделировать отношение порядка между разными соседними\n",
    "# порядковыми единицами \n",
    "\n",
    "# Данной информацией мы не обладаем, к тому же кол-во столбцов\n",
    "# позволяет нам провести one-hot-encoding"
   ]
  },
  {
   "cell_type": "code",
   "execution_count": 55,
   "id": "156c5e57",
   "metadata": {},
   "outputs": [
    {
     "data": {
      "text/plain": [
       "school             23\n",
       "school_setting      3\n",
       "school_type         2\n",
       "classroom          97\n",
       "teaching_method     2\n",
       "gender              2\n",
       "lunch               2\n",
       "dtype: int64"
      ]
     },
     "execution_count": 55,
     "metadata": {},
     "output_type": "execute_result"
    }
   ],
   "source": [
    "# кол-во категорий\n",
    "X_train[cat_columns].nunique()"
   ]
  },
  {
   "cell_type": "code",
   "execution_count": 42,
   "id": "42730a66",
   "metadata": {},
   "outputs": [
    {
     "data": {
      "text/plain": [
       "['school',\n",
       " 'school_setting',\n",
       " 'school_type',\n",
       " 'teaching_method',\n",
       " 'gender',\n",
       " 'lunch']"
      ]
     },
     "execution_count": 42,
     "metadata": {},
     "output_type": "execute_result"
    }
   ],
   "source": [
    "# classroom скорее всего не является важной фичей(можно как минимум\n",
    "# посмотретьт на распределение значенмя target по категориям classroom),\n",
    "cat_columns.remove(\"classroom\")\n",
    "cat_columns"
   ]
  },
  {
   "cell_type": "code",
   "execution_count": 43,
   "id": "689f22c7",
   "metadata": {},
   "outputs": [],
   "source": [
    "from sklearn.preprocessing import OneHotEncoder"
   ]
  },
  {
   "cell_type": "code",
   "execution_count": 54,
   "id": "089c8406",
   "metadata": {},
   "outputs": [
    {
     "data": {
      "text/plain": [
       "OneHotEncoder(drop='if_binary', sparse=False)"
      ]
     },
     "execution_count": 54,
     "metadata": {},
     "output_type": "execute_result"
    }
   ],
   "source": [
    "one_hot_encoder = OneHotEncoder(drop=\"if_binary\", sparse=False)\n",
    "one_hot_encoder.fit(X_train[cat_columns])"
   ]
  },
  {
   "cell_type": "markdown",
   "id": "cd2c1f25",
   "metadata": {},
   "source": [
    "#### +StandartScaler"
   ]
  },
  {
   "cell_type": "code",
   "execution_count": null,
   "id": "5eacb31a",
   "metadata": {},
   "outputs": [],
   "source": [
    "# Не забываем, что линейные модели очень требовательны к препроцессингу\n",
    "# данных, а также предполагют нрмальность рапределения неустранимой ошибки.\n",
    "\n",
    "# Помимо этого, масштаб признаков, подаваемых в линейную модель должен\n",
    "# сопоставим друг с другом, чего к изначальном ноутбуке не проделалось ....\n",
    "\n",
    "# ИСПРАВЛЕНИЕ:\n",
    "# 1) Нормализирием num_columns для подачи их в лейную модель"
   ]
  },
  {
   "cell_type": "code",
   "execution_count": 56,
   "id": "76f4497d",
   "metadata": {},
   "outputs": [],
   "source": [
    "from sklearn.preprocessing import StandardScaler"
   ]
  },
  {
   "cell_type": "code",
   "execution_count": 59,
   "id": "102a7004",
   "metadata": {},
   "outputs": [
    {
     "data": {
      "text/plain": [
       "StandardScaler()"
      ]
     },
     "execution_count": 59,
     "metadata": {},
     "output_type": "execute_result"
    }
   ],
   "source": [
    "standart_scaler = StandardScaler()\n",
    "standart_scaler.fit(X_train[num_columns])"
   ]
  },
  {
   "cell_type": "code",
   "execution_count": null,
   "id": "ba4c7999",
   "metadata": {},
   "outputs": [],
   "source": [
    "# как можно заметить, действительно данные имеют \n",
    "# различный масштаб, что мы и утсраняем с помощью standart_scaler"
   ]
  },
  {
   "cell_type": "code",
   "execution_count": 63,
   "id": "64d91be6",
   "metadata": {},
   "outputs": [
    {
     "data": {
      "text/plain": [
       "(array([22.67851563, 67.13898704,  0.51008578]),\n",
       " array([ 3.99647496, 13.73545272,  0.02146912]))"
      ]
     },
     "execution_count": 63,
     "metadata": {},
     "output_type": "execute_result"
    }
   ],
   "source": [
    "standart_scaler.mean_, standart_scaler.scale_ "
   ]
  },
  {
   "cell_type": "code",
   "execution_count": null,
   "id": "2ce09018",
   "metadata": {},
   "outputs": [],
   "source": [
    "#"
   ]
  },
  {
   "cell_type": "markdown",
   "id": "ca3c2799",
   "metadata": {},
   "source": [
    "<font color=\"green\" size=5>Дополнительная секция</font>"
   ]
  },
  {
   "cell_type": "code",
   "execution_count": null,
   "id": "dcec8fa2",
   "metadata": {},
   "outputs": [],
   "source": [
    "# Аналогичной секции нет в Model_students_upd.ipynb\n",
    "\n",
    "# Так как процесс обучения скомкан и не выделен в отдельную секцию, \n",
    "# процесс обучения модели и вариации улучшения способов обученя модели\n",
    "# рассмотрит ниже"
   ]
  },
  {
   "cell_type": "markdown",
   "id": "f37ea125",
   "metadata": {},
   "source": [
    "### Создадим train/test данные(предобработанные DataFrame), для удобства"
   ]
  },
  {
   "cell_type": "code",
   "execution_count": 98,
   "id": "8890ec0c",
   "metadata": {},
   "outputs": [],
   "source": [
    "def create_df_preprocess(X_df, one_hot_encoder=one_hot_encoder, standart_scaler=standart_scaler, num_columns=num_columns):\n",
    "    X_df_ohe = one_hot_encoder.transform(X_df[cat_columns])\n",
    "    X_df_ss = standart_scaler.transform(X_df[num_columns])\n",
    "    \n",
    "    X_df_preprocess = pd.DataFrame(data=np.concatenate([X_df_ohe, X_df_ss], axis=1),\n",
    "                          columns=chain(one_hot_encoder.get_feature_names(), num_columns),\n",
    "                          index=X_df.index)\n",
    "    return X_df_preprocess"
   ]
  },
  {
   "cell_type": "code",
   "execution_count": 103,
   "id": "faf6f66b",
   "metadata": {},
   "outputs": [],
   "source": [
    "X_train_preprocess = create_df_preprocess(X_train)\n",
    "X_test_preprocess = create_df_preprocess(X_test)"
   ]
  },
  {
   "cell_type": "markdown",
   "id": "9f6d0c08",
   "metadata": {},
   "source": [
    "### Обучение логистической регрессии"
   ]
  },
  {
   "cell_type": "code",
   "execution_count": null,
   "id": "34bbe9ed",
   "metadata": {},
   "outputs": [],
   "source": [
    "# Теперь, когда мы постарались учесть ошибки, которые были произведены\n",
    "# в Model_students_upd.ipynb, время обучать модель\n",
    "\n",
    "# Но, мы не будем проивзодить аналогичный процеcс обучения модели, а\n",
    "# постараеся его улучшить\n",
    "# 1) Даныые уже разделены test данные должны использоваться именно для\n",
    "# тестирования конечно модели, после того, как она прошла валидацию, для\n",
    "# чекпоинта своих ожиданий, что модель в итоге показывает +- похожее\n",
    "# качетво на validation\n",
    "\n",
    "# 2) Данные train - их не много + всегда есть шанс просто переобучиться на\n",
    "# разбиение данных, поэтому будем обучать модель с помощью кроссвалидации\n",
    "\n",
    "# 3) Также, почему бы и не использовать перебор по сетке параметров, чего\n",
    "# также не было сделано в Model_students_upd.ipynb\n",
    "\n",
    "# 4) Отсеивание признаков также за собой не несёт особо смысла т.к.\n",
    "# выбрано слишком слабое условие на pvalue = 0.0  + не произовдился никакой \n",
    "# препроцессинг данных, что пагубно влияет на адекватность выводов\n",
    "# \n",
    "# 5) Отсеивание признаков наиболее правильно произовить с регуляризацией \\\n",
    "# L1 т.к. именно в этом случае, модель чаще обнуляет менее валидные признаки\n",
    "\n",
    "\n",
    "# Также примечание, что в случае задачи классификации нам очевидно\n",
    "# нужна метрики и дисбаланса классов не наблюдается, то\n",
    "# вполне естественным оказывается взять accuracy, хотя \n",
    "# в зависимоти уже от конкретных запросов можем использовать и другие метрики"
   ]
  },
  {
   "cell_type": "code",
   "execution_count": 106,
   "id": "70acce02",
   "metadata": {},
   "outputs": [],
   "source": [
    "from sklearn.linear_model import LogisticRegression, LogisticRegressionCV\n",
    "from sklearn.model_selection import cross_val_score, StratifiedKFold\n",
    "from sklearn.model_selection import GridSearchCV"
   ]
  },
  {
   "cell_type": "code",
   "execution_count": 115,
   "id": "e3ec5336",
   "metadata": {},
   "outputs": [],
   "source": [
    "from sklearn.metrics import accuracy_score\n",
    "from sklearn.metrics import log_loss"
   ]
  },
  {
   "cell_type": "code",
   "execution_count": 130,
   "id": "0405fe03",
   "metadata": {},
   "outputs": [],
   "source": [
    "# для визуализации\n",
    "def visualize_coefficients(classifier, feature_names, n_top_features=25):\n",
    "    # get coefficients with large absolute values \n",
    "    coef = classifier.coef_.ravel()\n",
    "    positive_coefficients = np.argsort(coef)[-n_top_features:]\n",
    "    negative_coefficients = np.argsort(coef)[:n_top_features]\n",
    "    interesting_coefficients = np.hstack([negative_coefficients, positive_coefficients])\n",
    "    # plot them\n",
    "    plt.figure(figsize=(15, 5))\n",
    "    colors = [\"red\" if c < 0 else \"blue\" for c in coef[interesting_coefficients]]\n",
    "    plt.bar(np.arange(2 * n_top_features), coef[interesting_coefficients], color=colors)\n",
    "    feature_names = np.array(feature_names)\n",
    "    plt.xticks(np.arange(1, 1 + 2 * n_top_features), feature_names[interesting_coefficients], rotation=60, ha=\"right\");"
   ]
  },
  {
   "cell_type": "code",
   "execution_count": null,
   "id": "65b8e7f3",
   "metadata": {},
   "outputs": [],
   "source": [
    "# Для начала воспроизведём аналогичный подход и просто обучим\n",
    "# нашу модель на X_train_preprocess"
   ]
  },
  {
   "cell_type": "code",
   "execution_count": 121,
   "id": "a70e4b16",
   "metadata": {},
   "outputs": [
    {
     "data": {
      "text/plain": [
       "LogisticRegression(random_state=42)"
      ]
     },
     "execution_count": 121,
     "metadata": {},
     "output_type": "execute_result"
    }
   ],
   "source": [
    "log_reg_v1 = LogisticRegression(random_state=SEED)\n",
    "log_reg_v1.fit(X_train_preprocess, y_train)"
   ]
  },
  {
   "cell_type": "code",
   "execution_count": 122,
   "id": "976ec5c0",
   "metadata": {},
   "outputs": [],
   "source": [
    "train_predicitons_v1 = log_reg_v1.predict(X_train_preprocess)\n",
    "test_predicitons_v1 = log_reg_v1.predict(X_test_preprocess)"
   ]
  },
  {
   "cell_type": "code",
   "execution_count": 123,
   "id": "ed39a757",
   "metadata": {},
   "outputs": [
    {
     "name": "stdout",
     "output_type": "stream",
     "text": [
      "train accuracy: 0.6018845700824499\n",
      "train loss: 13.750562497633082\n"
     ]
    }
   ],
   "source": [
    "print(\"train accuracy:\", accuracy_score(y_train, train_predicitons_v1))\n",
    "print(\"train loss:\", log_loss(y_train, train_predicitons_v1))"
   ]
  },
  {
   "cell_type": "code",
   "execution_count": 124,
   "id": "044932cd",
   "metadata": {},
   "outputs": [
    {
     "name": "stdout",
     "output_type": "stream",
     "text": [
      "test accuracy: 0.5011764705882353\n",
      "test loss: 17.228944364850623\n"
     ]
    }
   ],
   "source": [
    "print(\"test accuracy:\", accuracy_score(y_test, test_predicitons_v1))\n",
    "print(\"test loss:\", log_loss(y_test, test_predicitons_v1))"
   ]
  },
  {
   "cell_type": "code",
   "execution_count": 125,
   "id": "ebfcedfe",
   "metadata": {},
   "outputs": [],
   "source": [
    "# различия не стольо существенны, но всё же модель очевидно лучше отрабатывает\n",
    "# на тренировочных данных, возможно различие не столь большое из-за\n",
    "# аккуратной стратифицированной выборке + препроцессинг"
   ]
  },
  {
   "cell_type": "code",
   "execution_count": 126,
   "id": "2dc9c640",
   "metadata": {},
   "outputs": [],
   "source": []
  },
  {
   "cell_type": "code",
   "execution_count": 129,
   "id": "b09d3c58",
   "metadata": {},
   "outputs": [
    {
     "data": {
      "image/png": "[encoded data removed]",
      "text/plain": [
       "<Figure size 1080x360 with 1 Axes>"
      ]
     },
     "metadata": {
      "needs_background": "light"
     },
     "output_type": "display_data"
    }
   ],
   "source": [
    "# как можно заметить, для логистической регрессии среди наиболее интересных пока даже не наблюдаем численных признаков,\n",
    "# хотяя опять же судить судить лишь по проведённому процессу обучения не особо хочется\n",
    "visualize_coefficients(log_reg_v1, X_train_preprocess.columns.values)"
   ]
  },
  {
   "cell_type": "code",
   "execution_count": 135,
   "id": "a9044027",
   "metadata": {},
   "outputs": [],
   "source": [
    "# Теперь проведём cv, как и планировали\n",
    "\n",
    "skf = StratifiedKFold(n_splits=5, shuffle=True, random_state=SEED)\n",
    "c_values = np.logspace(-2, 3, 500)"
   ]
  },
  {
   "cell_type": "code",
   "execution_count": 136,
   "id": "47332791",
   "metadata": {},
   "outputs": [],
   "source": [
    "log_reg_v2 = LogisticRegression()"
   ]
  },
  {
   "cell_type": "code",
   "execution_count": 137,
   "id": "a4c81679",
   "metadata": {},
   "outputs": [
    {
     "name": "stderr",
     "output_type": "stream",
     "text": [
      "[Parallel(n_jobs=-1)]: Using backend LokyBackend with 12 concurrent workers.\n",
      "[Parallel(n_jobs=-1)]: Done   3 out of   5 | elapsed:   11.0s remaining:    7.3s\n",
      "[Parallel(n_jobs=-1)]: Done   5 out of   5 | elapsed:   11.4s finished\n"
     ]
    },
    {
     "data": {
      "text/plain": [
       "LogisticRegressionCV(Cs=array([1.00000000e-02, 1.02334021e-02, 1.04722519e-02, 1.07166765e-02,\n",
       "       1.09668060e-02, 1.12227736e-02, 1.14847155e-02, 1.17527712e-02,\n",
       "       1.20270833e-02, 1.23077980e-02, 1.25950646e-02, 1.28890361e-02,\n",
       "       1.31898690e-02, 1.34977233e-02, 1.38127630e-02, 1.41351558e-02,\n",
       "       1.44650734e-02, 1.48026913e-02, 1.51481892e-02, 1.55017512e-02,\n",
       "       1.58635653e-02, 1.62...\n",
       "       6.45088409e+02, 6.60144909e+02, 6.75552832e+02, 6.91320378e+02,\n",
       "       7.07455942e+02, 7.23968114e+02, 7.40865683e+02, 7.58157646e+02,\n",
       "       7.75853206e+02, 7.93961785e+02, 8.12493021e+02, 8.31456781e+02,\n",
       "       8.50863158e+02, 8.70722485e+02, 8.91045332e+02, 9.11842520e+02,\n",
       "       9.33125118e+02, 9.54904456e+02, 9.77192128e+02, 1.00000000e+03]),\n",
       "                     cv=StratifiedKFold(n_splits=5, random_state=42, shuffle=True),\n",
       "                     n_jobs=-1, verbose=2)"
      ]
     },
     "execution_count": 137,
     "metadata": {},
     "output_type": "execute_result"
    }
   ],
   "source": [
    "log_reg_v2_searcher = LogisticRegressionCV(Cs=c_values, cv=skf, verbose=2, n_jobs=-1)\n",
    "log_reg_v2_searcher.fit(X_train_preprocess, y_train)"
   ]
  },
  {
   "cell_type": "code",
   "execution_count": 139,
   "id": "03548d3d",
   "metadata": {},
   "outputs": [
    {
     "data": {
      "text/plain": [
       "array([250.49415422])"
      ]
     },
     "execution_count": 139,
     "metadata": {},
     "output_type": "execute_result"
    }
   ],
   "source": [
    "# оптимальный коэф регуляризации\n",
    "log_reg_v2_searcher.C_"
   ]
  },
  {
   "cell_type": "code",
   "execution_count": 140,
   "id": "12a1619a",
   "metadata": {},
   "outputs": [
    {
     "data": {
      "image/png": "[encoded data removed]",
      "text/plain": [
       "<Figure size 432x288 with 1 Axes>"
      ]
     },
     "metadata": {
      "needs_background": "light"
     },
     "output_type": "display_data"
    }
   ],
   "source": [
    "# как можно заметить, параметры по умолчанию для коэф регуляризации далеко\n",
    "# не идеальны\n",
    "plt.plot(c_values, np.mean(log_reg_v2_searcher.scores_[1], axis=0))\n",
    "plt.xlabel('C')\n",
    "plt.ylabel('Mean CV-accuracy');\n",
    "plt.xlim((0,10));"
   ]
  },
  {
   "cell_type": "code",
   "execution_count": 142,
   "id": "102186fe",
   "metadata": {},
   "outputs": [],
   "source": [
    "train_predicitons_v2 = log_reg_v2_searcher.predict(X_train_preprocess)\n",
    "test_predicitons_v2 = log_reg_v2_searcher.predict(X_test_preprocess)"
   ]
  },
  {
   "cell_type": "code",
   "execution_count": 143,
   "id": "e5da757b",
   "metadata": {},
   "outputs": [
    {
     "name": "stdout",
     "output_type": "stream",
     "text": [
      "train accuracy: 0.6042402826855123\n",
      "train loss: 13.669198595879799\n"
     ]
    }
   ],
   "source": [
    "print(\"train accuracy:\", accuracy_score(y_train, train_predicitons_v2))\n",
    "print(\"train loss:\", log_loss(y_train, train_predicitons_v2))"
   ]
  },
  {
   "cell_type": "code",
   "execution_count": 144,
   "id": "6a3bc210",
   "metadata": {},
   "outputs": [
    {
     "name": "stdout",
     "output_type": "stream",
     "text": [
      "test accuracy: 0.508235294117647\n",
      "test loss: 16.985139355951418\n"
     ]
    }
   ],
   "source": [
    "print(\"test accuracy:\", accuracy_score(y_test, test_predicitons_v2))\n",
    "print(\"test loss:\", log_loss(y_test, test_predicitons_v2))"
   ]
  },
  {
   "cell_type": "code",
   "execution_count": null,
   "id": "5fa3f98d",
   "metadata": {},
   "outputs": [],
   "source": [
    "# как можно заметить, качество не сильно меняется и есть предположение, что\n",
    "# не смотря на более оптимальный подбор параметров, \n",
    "# обьекты 2х классов в пространстве признаков на данный момент не являются\n",
    "# хорошо линейно разделимы"
   ]
  },
  {
   "cell_type": "code",
   "execution_count": null,
   "id": "46e1626e",
   "metadata": {},
   "outputs": [],
   "source": []
  },
  {
   "cell_type": "code",
   "execution_count": null,
   "id": "65afae78",
   "metadata": {},
   "outputs": [],
   "source": [
    "# К сожалению , время близится к завершению и здесь я бы хотел досказать то,\n",
    "# что точно имеет смысл попробовать.\n",
    "\n",
    "# 1) Условжнение модели(другой класс моделей), если это конечно разрешено\n",
    "# 2) Более серьёзный подход к генерации новых признаков т.к. очевидно, \n",
    "# сейчас классы не линейно разделимы при данных фичах\n",
    "\n",
    "# 3) Использование для каждой модели поиска оптимальных параметров с банальным\n",
    "# перебором + .predict_proba и поиск оптимального порога для улучшения качеста\n",
    "# т.к. параметры по умолчанию могут быть не оптимальны\n",
    "\n",
    "# 4) Испотльзование l2 регуляризации для отсечения неинформативных признаков + \n",
    "# по наиболее валидным уже строить снова модели"
   ]
  },
  {
   "cell_type": "code",
   "execution_count": null,
   "id": "94ee5246",
   "metadata": {},
   "outputs": [],
   "source": []
  }
 ],
 "metadata": {
  "kernelspec": {
   "display_name": "Python 3",
   "language": "python",
   "name": "python3"
  },
  "language_info": {
   "codemirror_mode": {
    "name": "ipython",
    "version": 3
   },
   "file_extension": ".py",
   "mimetype": "text/x-python",
   "name": "python",
   "nbconvert_exporter": "python",
   "pygments_lexer": "ipython3",
   "version": "3.9.3"
  }
 },
 "nbformat": 4,
 "nbformat_minor": 5
}
